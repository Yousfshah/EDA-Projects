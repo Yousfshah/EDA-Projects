{
 "cells": [
  {
   "cell_type": "markdown",
   "metadata": {},
   "source": [
    "\n",
    "#### Written by: Yousuf Shah\n",
    "#### Subject: EDA On Googleplaystore Dataset\n",
    "#### Date: 06.04.2024\n",
    "#### Email: contact.ys09@gmail.com"
   ]
  },
  {
   "cell_type": "markdown",
   "metadata": {},
   "source": [
    "---"
   ]
  },
  {
   "cell_type": "markdown",
   "metadata": {},
   "source": [
    "# Google Playstore Data"
   ]
  },
  {
   "cell_type": "markdown",
   "metadata": {},
   "source": [
    "# About dataset"
   ]
  },
  {
   "cell_type": "markdown",
   "metadata": {},
   "source": [
    "- Description\n",
    "   The dataset was downloaded from kaggle,from the following [Link](https://www.kaggle.com/datasets/lava18/google-play-store-apps)"
   ]
  },
  {
   "cell_type": "markdown",
   "metadata": {},
   "source": [
    "#### **Context**\n",
    "\n",
    "While many public datasets (on Kaggle and the like) provide Apple App Store data, there are not many counterpart datasets available for Google Play Store apps anywhere on the web. On digging deeper, I found out that iTunes App Store page deploys a nicely indexed appendix-like structure to allow for simple and easy web scraping. On the other hand, Google Play Store uses sophisticated modern-day techniques (like dynamic page load) using JQuery making scraping more challenging.\n",
    "\n",
    "#### **Content**\n",
    "\n",
    "Each app (row) has values for catergory, rating, size, and more.\n",
    "\n",
    "#### **Acknowledgements**\n",
    "\n",
    "This information is scraped from the Google Play Store. This app information would not be available without it.\n",
    "\n",
    "#### **Inspiration**\n",
    "\n",
    "The Play Store apps data has enormous potential to drive app-making businesses to success. Actionable insights can be drawn for developers to work on and capture the Android market!"
   ]
  },
  {
   "cell_type": "markdown",
   "metadata": {},
   "source": [
    "# Import libraries"
   ]
  },
  {
   "cell_type": "code",
   "execution_count": 1,
   "metadata": {},
   "outputs": [],
   "source": [
    "import pandas as pd\n",
    "import numpy as np\n",
    "import seaborn as sns\n",
    "import matplotlib.pyplot as plt\n",
    "%matplotlib inline \n",
    "# %matplotlib inline for jupyter notebook to show the plot in the notebook itself instead of opening a new window for the plot\n",
    "\n",
    "# Hide All Warnings\n",
    "import warnings\n",
    "warnings.simplefilter('ignore')"
   ]
  },
  {
   "cell_type": "markdown",
   "metadata": {},
   "source": [
    "# Data loading and Exploration or cleaning"
   ]
  },
  {
   "cell_type": "markdown",
   "metadata": {},
   "source": [
    "#### Load the csv file"
   ]
  },
  {
   "cell_type": "code",
   "execution_count": 2,
   "metadata": {},
   "outputs": [],
   "source": [
    "df=pd.read_csv('googleplaystore.csv')"
   ]
  },
  {
   "cell_type": "markdown",
   "metadata": {},
   "source": [
    "#### Let's have a look on Top 5 rows of the data"
   ]
  },
  {
   "cell_type": "code",
   "execution_count": 3,
   "metadata": {},
   "outputs": [
    {
     "data": {
      "text/html": [
       "<div>\n",
       "<style scoped>\n",
       "    .dataframe tbody tr th:only-of-type {\n",
       "        vertical-align: middle;\n",
       "    }\n",
       "\n",
       "    .dataframe tbody tr th {\n",
       "        vertical-align: top;\n",
       "    }\n",
       "\n",
       "    .dataframe thead th {\n",
       "        text-align: right;\n",
       "    }\n",
       "</style>\n",
       "<table border=\"1\" class=\"dataframe\">\n",
       "  <thead>\n",
       "    <tr style=\"text-align: right;\">\n",
       "      <th></th>\n",
       "      <th>App</th>\n",
       "      <th>Category</th>\n",
       "      <th>Rating</th>\n",
       "      <th>Reviews</th>\n",
       "      <th>Size</th>\n",
       "      <th>Installs</th>\n",
       "      <th>Type</th>\n",
       "      <th>Price</th>\n",
       "      <th>Content Rating</th>\n",
       "      <th>Genres</th>\n",
       "      <th>Last Updated</th>\n",
       "      <th>Current Ver</th>\n",
       "      <th>Android Ver</th>\n",
       "      <th>Unnamed: 13</th>\n",
       "    </tr>\n",
       "  </thead>\n",
       "  <tbody>\n",
       "    <tr>\n",
       "      <th>0</th>\n",
       "      <td>Photo Editor &amp; Candy Camera &amp; Grid &amp; ScrapBook</td>\n",
       "      <td>ART_AND_DESIGN</td>\n",
       "      <td>4.1</td>\n",
       "      <td>159</td>\n",
       "      <td>19M</td>\n",
       "      <td>10,000+</td>\n",
       "      <td>Free</td>\n",
       "      <td>0</td>\n",
       "      <td>Everyone</td>\n",
       "      <td>Art &amp; Design</td>\n",
       "      <td>January 7, 2018</td>\n",
       "      <td>1.0.0</td>\n",
       "      <td>4.0.3 and up</td>\n",
       "      <td>NaN</td>\n",
       "    </tr>\n",
       "    <tr>\n",
       "      <th>1</th>\n",
       "      <td>Coloring book moana</td>\n",
       "      <td>ART_AND_DESIGN</td>\n",
       "      <td>3.9</td>\n",
       "      <td>967</td>\n",
       "      <td>14M</td>\n",
       "      <td>500,000+</td>\n",
       "      <td>Free</td>\n",
       "      <td>0</td>\n",
       "      <td>Everyone</td>\n",
       "      <td>Art &amp; Design</td>\n",
       "      <td>Pretend Play</td>\n",
       "      <td>January 15, 2018</td>\n",
       "      <td>2.0.0</td>\n",
       "      <td>4.0.3 and up</td>\n",
       "    </tr>\n",
       "    <tr>\n",
       "      <th>2</th>\n",
       "      <td>U Launcher Lite – FREE Live Cool Themes, Hide ...</td>\n",
       "      <td>ART_AND_DESIGN</td>\n",
       "      <td>4.7</td>\n",
       "      <td>87510</td>\n",
       "      <td>8.7M</td>\n",
       "      <td>5,000,000+</td>\n",
       "      <td>Free</td>\n",
       "      <td>0</td>\n",
       "      <td>Everyone</td>\n",
       "      <td>Art &amp; Design</td>\n",
       "      <td>August 1, 2018</td>\n",
       "      <td>1.2.4</td>\n",
       "      <td>4.0.3 and up</td>\n",
       "      <td>NaN</td>\n",
       "    </tr>\n",
       "    <tr>\n",
       "      <th>3</th>\n",
       "      <td>Sketch - Draw &amp; Paint</td>\n",
       "      <td>ART_AND_DESIGN</td>\n",
       "      <td>4.5</td>\n",
       "      <td>215644</td>\n",
       "      <td>25M</td>\n",
       "      <td>50,000,000+</td>\n",
       "      <td>Free</td>\n",
       "      <td>0</td>\n",
       "      <td>Teen</td>\n",
       "      <td>Art &amp; Design</td>\n",
       "      <td>June 8, 2018</td>\n",
       "      <td>Varies with device</td>\n",
       "      <td>4.2 and up</td>\n",
       "      <td>NaN</td>\n",
       "    </tr>\n",
       "    <tr>\n",
       "      <th>4</th>\n",
       "      <td>Pixel Draw - Number Art Coloring Book</td>\n",
       "      <td>ART_AND_DESIGN</td>\n",
       "      <td>4.3</td>\n",
       "      <td>967</td>\n",
       "      <td>2.8M</td>\n",
       "      <td>100,000+</td>\n",
       "      <td>Free</td>\n",
       "      <td>0</td>\n",
       "      <td>Everyone</td>\n",
       "      <td>Art &amp; Design</td>\n",
       "      <td>Creativity</td>\n",
       "      <td>June 20, 2018</td>\n",
       "      <td>1.1</td>\n",
       "      <td>4.4 and up</td>\n",
       "    </tr>\n",
       "  </tbody>\n",
       "</table>\n",
       "</div>"
      ],
      "text/plain": [
       "                                                 App        Category  Rating  \\\n",
       "0     Photo Editor & Candy Camera & Grid & ScrapBook  ART_AND_DESIGN     4.1   \n",
       "1                                Coloring book moana  ART_AND_DESIGN     3.9   \n",
       "2  U Launcher Lite – FREE Live Cool Themes, Hide ...  ART_AND_DESIGN     4.7   \n",
       "3                              Sketch - Draw & Paint  ART_AND_DESIGN     4.5   \n",
       "4              Pixel Draw - Number Art Coloring Book  ART_AND_DESIGN     4.3   \n",
       "\n",
       "   Reviews  Size     Installs  Type Price Content Rating        Genres  \\\n",
       "0      159   19M      10,000+  Free     0       Everyone  Art & Design   \n",
       "1      967   14M     500,000+  Free     0       Everyone  Art & Design   \n",
       "2    87510  8.7M   5,000,000+  Free     0       Everyone  Art & Design   \n",
       "3   215644   25M  50,000,000+  Free     0           Teen  Art & Design   \n",
       "4      967  2.8M     100,000+  Free     0       Everyone  Art & Design   \n",
       "\n",
       "      Last Updated         Current Ver   Android Ver   Unnamed: 13  \n",
       "0  January 7, 2018               1.0.0  4.0.3 and up           NaN  \n",
       "1     Pretend Play    January 15, 2018         2.0.0  4.0.3 and up  \n",
       "2   August 1, 2018               1.2.4  4.0.3 and up           NaN  \n",
       "3     June 8, 2018  Varies with device    4.2 and up           NaN  \n",
       "4       Creativity       June 20, 2018           1.1    4.4 and up  "
      ]
     },
     "execution_count": 3,
     "metadata": {},
     "output_type": "execute_result"
    }
   ],
   "source": [
    "df.head()"
   ]
  },
  {
   "cell_type": "markdown",
   "metadata": {},
   "source": [
    "#### Important things to know"
   ]
  },
  {
   "cell_type": "code",
   "execution_count": 4,
   "metadata": {},
   "outputs": [],
   "source": [
    "# Set option to see maximum rows and columns in dataset \n",
    "pd.set_option(\"display.max_columns\",None)\n",
    "pd.set_option(\"display.max_rows\",None)"
   ]
  },
  {
   "cell_type": "code",
   "execution_count": 5,
   "metadata": {},
   "outputs": [
    {
     "data": {
      "text/plain": [
       "Index(['App', 'Category', 'Rating', 'Reviews', 'Size', 'Installs', 'Type',\n",
       "       'Price', 'Content Rating', 'Genres', 'Last Updated', 'Current Ver',\n",
       "       'Android Ver', 'Unnamed: 13'],\n",
       "      dtype='object')"
      ]
     },
     "execution_count": 5,
     "metadata": {},
     "output_type": "execute_result"
    }
   ],
   "source": [
    "# Print all columns name\n",
    "df.columns"
   ]
  },
  {
   "cell_type": "code",
   "execution_count": 6,
   "metadata": {},
   "outputs": [
    {
     "name": "stdout",
     "output_type": "stream",
     "text": [
      "The number of Rows are : 10841\n",
      "\n",
      "The number of Columns are : 14\n"
     ]
    }
   ],
   "source": [
    "# print how many rows and columns in our dataset \n",
    "print(f'The number of Rows are : {df.shape[0]}')\n",
    "print()\n",
    "print(f'The number of Columns are : {df.shape[1]}')"
   ]
  },
  {
   "cell_type": "code",
   "execution_count": 7,
   "metadata": {},
   "outputs": [
    {
     "name": "stdout",
     "output_type": "stream",
     "text": [
      "<class 'pandas.core.frame.DataFrame'>\n",
      "RangeIndex: 10841 entries, 0 to 10840\n",
      "Data columns (total 14 columns):\n",
      " #   Column          Non-Null Count  Dtype  \n",
      "---  ------          --------------  -----  \n",
      " 0   App             10841 non-null  object \n",
      " 1   Category        10840 non-null  object \n",
      " 2   Rating          9367 non-null   float64\n",
      " 3   Reviews         10841 non-null  int64  \n",
      " 4   Size            10841 non-null  object \n",
      " 5   Installs        10841 non-null  object \n",
      " 6   Type            10840 non-null  object \n",
      " 7   Price           10841 non-null  object \n",
      " 8   Content Rating  10841 non-null  object \n",
      " 9   Genres          10840 non-null  object \n",
      " 10  Last Updated    10841 non-null  object \n",
      " 11  Current Ver     10833 non-null  object \n",
      " 12  Android Ver     10839 non-null  object \n",
      " 13  Unnamed: 13     499 non-null    object \n",
      "dtypes: float64(1), int64(1), object(12)\n",
      "memory usage: 1.2+ MB\n"
     ]
    }
   ],
   "source": [
    "# Show info of our dataset\n",
    "df.info()"
   ]
  },
  {
   "cell_type": "markdown",
   "metadata": {},
   "source": [
    "# Let's deal with the \n",
    "1. Size \n",
    "2. Installs\n",
    "3. Price \n",
    "\n",
    "because python is showing that column into object even that is not object so we convert them into numeric"
   ]
  },
  {
   "cell_type": "markdown",
   "metadata": {},
   "source": [
    "# **Size**"
   ]
  },
  {
   "cell_type": "markdown",
   "metadata": {},
   "source": [
    "### remove M,k and Varies with device from `Size`\n",
    "### and in the place of Varies with device we place nan values\n",
    "### rest convert into MBs and convert Size column into float numbers"
   ]
  },
  {
   "cell_type": "code",
   "execution_count": 8,
   "metadata": {},
   "outputs": [],
   "source": [
    "# Rename column \n",
    "df.rename(columns={'Size':'size_in_MBs'},inplace=True)"
   ]
  },
  {
   "cell_type": "code",
   "execution_count": 9,
   "metadata": {},
   "outputs": [
    {
     "data": {
      "text/plain": [
       "size_in_MBs\n",
       "Varies with device    1695\n",
       "11M                    198\n",
       "12M                    196\n",
       "14M                    194\n",
       "13M                    191\n",
       "15M                    184\n",
       "17M                    160\n",
       "19M                    154\n",
       "26M                    149\n",
       "16M                    149\n",
       "25M                    143\n",
       "20M                    139\n",
       "21M                    138\n",
       "10M                    136\n",
       "24M                    136\n",
       "18M                    133\n",
       "23M                    117\n",
       "22M                    114\n",
       "29M                    103\n",
       "27M                     97\n",
       "28M                     95\n",
       "30M                     84\n",
       "33M                     79\n",
       "3.3M                    77\n",
       "37M                     76\n",
       "35M                     72\n",
       "31M                     70\n",
       "2.9M                    69\n",
       "2.3M                    68\n",
       "2.5M                    68\n",
       "3.4M                    65\n",
       "2.8M                    65\n",
       "32M                     63\n",
       "3.7M                    63\n",
       "34M                     63\n",
       "3.9M                    62\n",
       "3.0M                    62\n",
       "3.8M                    62\n",
       "40M                     62\n",
       "44M                     61\n",
       "4.0M                    61\n",
       "36M                     60\n",
       "48M                     59\n",
       "46M                     59\n",
       "4.2M                    59\n",
       "5.0M                    58\n",
       "3.6M                    57\n",
       "3.1M                    56\n",
       "39M                     56\n",
       "3.2M                    55\n",
       "38M                     55\n",
       "4.3M                    54\n",
       "2.7M                    53\n",
       "4.1M                    52\n",
       "2.0M                    51\n",
       "3.5M                    51\n",
       "5.4M                    51\n",
       "4.9M                    50\n",
       "1.8M                    50\n",
       "2.6M                    50\n",
       "1.5M                    48\n",
       "2.4M                    48\n",
       "5.7M                    48\n",
       "41M                     48\n",
       "43M                     47\n",
       "4.6M                    46\n",
       "6.3M                    45\n",
       "2.2M                    45\n",
       "49M                     45\n",
       "50M                     44\n",
       "5.3M                    44\n",
       "5.1M                    43\n",
       "53M                     43\n",
       "4.4M                    42\n",
       "63M                     41\n",
       "42M                     41\n",
       "1.2M                    41\n",
       "1.7M                    40\n",
       "2.1M                    40\n",
       "45M                     40\n",
       "4.5M                    40\n",
       "6.9M                    40\n",
       "6.1M                    39\n",
       "99M                     39\n",
       "1.6M                    39\n",
       "8.7M                    39\n",
       "59M                     38\n",
       "47M                     37\n",
       "57M                     37\n",
       "5.9M                    37\n",
       "1.4M                    37\n",
       "7.3M                    37\n",
       "60M                     36\n",
       "8.5M                    36\n",
       "4.7M                    36\n",
       "1.3M                    35\n",
       "5.8M                    35\n",
       "52M                     35\n",
       "5.2M                    35\n",
       "4.8M                    34\n",
       "6.0M                    34\n",
       "6.5M                    34\n",
       "7.9M                    33\n",
       "5.5M                    33\n",
       "7.0M                    33\n",
       "51M                     33\n",
       "6.6M                    33\n",
       "9.2M                    33\n",
       "1.9M                    32\n",
       "67M                     32\n",
       "1.1M                    32\n",
       "62M                     32\n",
       "5.6M                    31\n",
       "56M                     31\n",
       "8.3M                    30\n",
       "7.2M                    30\n",
       "8.4M                    30\n",
       "55M                     30\n",
       "9.8M                    30\n",
       "6.2M                    30\n",
       "54M                     29\n",
       "7.8M                    29\n",
       "9.1M                    29\n",
       "7.6M                    29\n",
       "6.4M                    29\n",
       "9.9M                    28\n",
       "7.4M                    28\n",
       "8.9M                    28\n",
       "7.5M                    28\n",
       "6.8M                    28\n",
       "9.5M                    28\n",
       "8.2M                    28\n",
       "8.8M                    27\n",
       "76M                     27\n",
       "70M                     27\n",
       "8.1M                    27\n",
       "9.0M                    27\n",
       "61M                     26\n",
       "7.7M                    26\n",
       "58M                     26\n",
       "7.1M                    26\n",
       "96M                     26\n",
       "8.6M                    25\n",
       "6.7M                    25\n",
       "9.4M                    24\n",
       "9.7M                    24\n",
       "78M                     23\n",
       "8.0M                    23\n",
       "69M                     23\n",
       "91M                     22\n",
       "82M                     21\n",
       "97M                     20\n",
       "74M                     20\n",
       "72M                     19\n",
       "95M                     18\n",
       "68M                     18\n",
       "85M                     17\n",
       "94M                     17\n",
       "93M                     16\n",
       "100M                    16\n",
       "66M                     16\n",
       "98M                     16\n",
       "83M                     15\n",
       "92M                     15\n",
       "9.3M                    15\n",
       "9.6M                    15\n",
       "64M                     15\n",
       "73M                     15\n",
       "71M                     14\n",
       "88M                     14\n",
       "77M                     13\n",
       "87M                     13\n",
       "75M                     13\n",
       "80M                     13\n",
       "79M                     11\n",
       "81M                     11\n",
       "10.0M                   10\n",
       "65M                     10\n",
       "89M                      9\n",
       "84M                      9\n",
       "86M                      8\n",
       "1.0M                     7\n",
       "90M                      6\n",
       "201k                     3\n",
       "79k                      3\n",
       "118k                     3\n",
       "266k                     3\n",
       "375k                     3\n",
       "592k                     2\n",
       "29k                      2\n",
       "948k                     2\n",
       "323k                     2\n",
       "656k                     2\n",
       "33k                      2\n",
       "228k                     2\n",
       "72k                      2\n",
       "334k                     2\n",
       "417k                     2\n",
       "335k                     2\n",
       "192k                     2\n",
       "141k                     2\n",
       "70k                      2\n",
       "18k                      2\n",
       "473k                     2\n",
       "842k                     2\n",
       "206k                     2\n",
       "172k                     2\n",
       "26k                      2\n",
       "196k                     2\n",
       "58k                      2\n",
       "318k                     2\n",
       "17k                      2\n",
       "704k                     2\n",
       "51k                      2\n",
       "957k                     2\n",
       "364k                     2\n",
       "619k                     1\n",
       "144k                     1\n",
       "143k                     1\n",
       "190k                     1\n",
       "376k                     1\n",
       "970k                     1\n",
       "39k                      1\n",
       "879k                     1\n",
       "161k                     1\n",
       "626k                     1\n",
       "387k                     1\n",
       "860k                     1\n",
       "154k                     1\n",
       "467k                     1\n",
       "861k                     1\n",
       "921k                     1\n",
       "523k                     1\n",
       "329k                     1\n",
       "48k                      1\n",
       "270k                     1\n",
       "811k                     1\n",
       "688k                     1\n",
       "847k                     1\n",
       "562k                     1\n",
       "54k                      1\n",
       "500k                     1\n",
       "608k                     1\n",
       "903k                     1\n",
       "914k                     1\n",
       "193k                     1\n",
       "378k                     1\n",
       "899k                     1\n",
       "892k                     1\n",
       "754k                     1\n",
       "518k                     1\n",
       "24k                      1\n",
       "280k                     1\n",
       "784k                     1\n",
       "981k                     1\n",
       "862k                     1\n",
       "865k                     1\n",
       "953k                     1\n",
       "857k                     1\n",
       "241k                     1\n",
       "772k                     1\n",
       "713k                     1\n",
       "720k                     1\n",
       "853k                     1\n",
       "779k                     1\n",
       "920k                     1\n",
       "525k                     1\n",
       "544k                     1\n",
       "293k                     1\n",
       "91k                      1\n",
       "756k                     1\n",
       "730k                     1\n",
       "220k                     1\n",
       "371k                     1\n",
       "239k                     1\n",
       "314k                     1\n",
       "203k                     1\n",
       "746k                     1\n",
       "313k                     1\n",
       "540k                     1\n",
       "930k                     1\n",
       "251k                     1\n",
       "61k                      1\n",
       "545k                     1\n",
       "965k                     1\n",
       "475k                     1\n",
       "45k                      1\n",
       "169k                     1\n",
       "939k                     1\n",
       "81k                      1\n",
       "818k                     1\n",
       "902k                     1\n",
       "924k                     1\n",
       "78k                      1\n",
       "317k                     1\n",
       "14k                      1\n",
       "74k                      1\n",
       "717k                     1\n",
       "23k                      1\n",
       "695k                     1\n",
       "696k                     1\n",
       "980k                     1\n",
       "975k                     1\n",
       "444k                     1\n",
       "954k                     1\n",
       "549k                     1\n",
       "238k                     1\n",
       "976k                     1\n",
       "322k                     1\n",
       "121k                     1\n",
       "872k                     1\n",
       "93k                      1\n",
       "714k                     1\n",
       "655k                     1\n",
       "283k                     1\n",
       "442k                     1\n",
       "812k                     1\n",
       "421k                     1\n",
       "454k                     1\n",
       "383k                     1\n",
       "350k                     1\n",
       "175k                     1\n",
       "904k                     1\n",
       "306k                     1\n",
       "705k                     1\n",
       "308k                     1\n",
       "609k                     1\n",
       "210k                     1\n",
       "414k                     1\n",
       "11k                      1\n",
       "292k                     1\n",
       "41k                      1\n",
       "8.5k                     1\n",
       "624k                     1\n",
       "232k                     1\n",
       "556k                     1\n",
       "816k                     1\n",
       "496k                     1\n",
       "728k                     1\n",
       "460k                     1\n",
       "200k                     1\n",
       "429k                     1\n",
       "430k                     1\n",
       "721k                     1\n",
       "782k                     1\n",
       "478k                     1\n",
       "459k                     1\n",
       "412k                     1\n",
       "598k                     1\n",
       "437k                     1\n",
       "373k                     1\n",
       "191k                     1\n",
       "647k                     1\n",
       "840k                     1\n",
       "186k                     1\n",
       "319k                     1\n",
       "683k                     1\n",
       "778k                     1\n",
       "569k                     1\n",
       "243k                     1\n",
       "613k                     1\n",
       "887k                     1\n",
       "506k                     1\n",
       "27k                      1\n",
       "351k                     1\n",
       "554k                     1\n",
       "25k                      1\n",
       "963k                     1\n",
       "951k                     1\n",
       "511k                     1\n",
       "691k                     1\n",
       "55k                      1\n",
       "219k                     1\n",
       "222k                     1\n",
       "982k                     1\n",
       "585k                     1\n",
       "716k                     1\n",
       "597k                     1\n",
       "173k                     1\n",
       "499k                     1\n",
       "353k                     1\n",
       "209k                     1\n",
       "153k                     1\n",
       "116k                     1\n",
       "743k                     1\n",
       "898k                     1\n",
       "103k                     1\n",
       "551k                     1\n",
       "514k                     1\n",
       "913k                     1\n",
       "208k                     1\n",
       "82k                      1\n",
       "269k                     1\n",
       "961k                     1\n",
       "780k                     1\n",
       "837k                     1\n",
       "516k                     1\n",
       "97k                      1\n",
       "986k                     1\n",
       "643k                     1\n",
       "50k                      1\n",
       "237k                     1\n",
       "787k                     1\n",
       "801k                     1\n",
       "400k                     1\n",
       "411k                     1\n",
       "122k                     1\n",
       "809k                     1\n",
       "663k                     1\n",
       "257k                     1\n",
       "234k                     1\n",
       "160k                     1\n",
       "170k                     1\n",
       "89k                      1\n",
       "240k                     1\n",
       "226k                     1\n",
       "470k                     1\n",
       "526k                     1\n",
       "176k                     1\n",
       "940k                     1\n",
       "108k                     1\n",
       "221k                     1\n",
       "601k                     1\n",
       "881k                     1\n",
       "642k                     1\n",
       "749k                     1\n",
       "600k                     1\n",
       "498k                     1\n",
       "20k                      1\n",
       "485k                     1\n",
       "309k                     1\n",
       "994k                     1\n",
       "916k                     1\n",
       "636k                     1\n",
       "785k                     1\n",
       "775k                     1\n",
       "288k                     1\n",
       "28k                      1\n",
       "629k                     1\n",
       "245k                     1\n",
       "458k                     1\n",
       "164k                     1\n",
       "259k                     1\n",
       "942k                     1\n",
       "34k                      1\n",
       "874k                     1\n",
       "582k                     1\n",
       "1020k                    1\n",
       "885k                     1\n",
       "552k                     1\n",
       "67k                      1\n",
       "676k                     1\n",
       "44k                      1\n",
       "157k                     1\n",
       "404k                     1\n",
       "420k                     1\n",
       "253k                     1\n",
       "992k                     1\n",
       "658k                     1\n",
       "73k                      1\n",
       "246k                     1\n",
       "Name: count, dtype: int64"
      ]
     },
     "execution_count": 9,
     "metadata": {},
     "output_type": "execute_result"
    }
   ],
   "source": [
    "df['size_in_MBs'].value_counts()"
   ]
  },
  {
   "cell_type": "markdown",
   "metadata": {},
   "source": [
    "## Observation \n",
    "1. Varies with device\n",
    "2. M\n",
    "3. k"
   ]
  },
  {
   "cell_type": "code",
   "execution_count": 10,
   "metadata": {},
   "outputs": [
    {
     "data": {
      "text/plain": [
       "np.int64(0)"
      ]
     },
     "execution_count": 10,
     "metadata": {},
     "output_type": "execute_result"
    }
   ],
   "source": [
    "# Missing values check\n",
    "df['size_in_MBs'].isnull().sum()"
   ]
  },
  {
   "cell_type": "markdown",
   "metadata": {},
   "source": [
    "- No missing values in Size column "
   ]
  },
  {
   "cell_type": "code",
   "execution_count": 11,
   "metadata": {},
   "outputs": [
    {
     "data": {
      "text/plain": [
       "np.int64(8830)"
      ]
     },
     "execution_count": 11,
     "metadata": {},
     "output_type": "execute_result"
    }
   ],
   "source": [
    "# Find the values having 'M' in them\n",
    "df['size_in_MBs'].loc[df['size_in_MBs'].str.contains('M')].value_counts().sum()"
   ]
  },
  {
   "cell_type": "code",
   "execution_count": 12,
   "metadata": {},
   "outputs": [
    {
     "data": {
      "text/plain": [
       "np.int64(316)"
      ]
     },
     "execution_count": 12,
     "metadata": {},
     "output_type": "execute_result"
    }
   ],
   "source": [
    "# Find the values having 'k' in them\n",
    "df['size_in_MBs'].loc[df['size_in_MBs'].str.contains('k')].value_counts().sum()"
   ]
  },
  {
   "cell_type": "code",
   "execution_count": 13,
   "metadata": {},
   "outputs": [
    {
     "data": {
      "text/plain": [
       "np.int64(1695)"
      ]
     },
     "execution_count": 13,
     "metadata": {},
     "output_type": "execute_result"
    }
   ],
   "source": [
    "# Find the values having 'Varies with device' in them\n",
    "df['size_in_MBs'].loc[df['size_in_MBs'].str.contains('Varies with device')].value_counts().sum()"
   ]
  },
  {
   "cell_type": "markdown",
   "metadata": {},
   "source": [
    "# for conformation "
   ]
  },
  {
   "cell_type": "code",
   "execution_count": 14,
   "metadata": {},
   "outputs": [
    {
     "data": {
      "text/plain": [
       "10841"
      ]
     },
     "execution_count": 14,
     "metadata": {},
     "output_type": "execute_result"
    }
   ],
   "source": [
    "len(df)"
   ]
  },
  {
   "cell_type": "code",
   "execution_count": 15,
   "metadata": {},
   "outputs": [
    {
     "data": {
      "text/plain": [
       "10841"
      ]
     },
     "execution_count": 15,
     "metadata": {},
     "output_type": "execute_result"
    }
   ],
   "source": [
    "1695+316+8830"
   ]
  },
  {
   "cell_type": "markdown",
   "metadata": {},
   "source": [
    "- Both are equal we are good to go"
   ]
  },
  {
   "cell_type": "code",
   "execution_count": 16,
   "metadata": {},
   "outputs": [],
   "source": [
    "# define a funciton that convert size_in_MBs into numeric dtype\n",
    "def convert_size(size_in_MBs):\n",
    "\n",
    "    if isinstance(size_in_MBs, str):\n",
    "        if 'k' in size_in_MBs:\n",
    "            return float(size_in_MBs.replace('k', '')) / 1024\n",
    "        elif 'M' in size_in_MBs:\n",
    "            return float(size_in_MBs.replace('M', ''))\n",
    "        elif 'Varies with device' in size_in_MBs:\n",
    "            return np.nan\n",
    "    return size_in_MBs\n"
   ]
  },
  {
   "cell_type": "code",
   "execution_count": 17,
   "metadata": {},
   "outputs": [],
   "source": [
    "# Apply the function to the size_in_MBs column\n",
    "# apply means convert_size funtion will implement on size_in_MBs\n",
    "df['size_in_MBs'] = df['size_in_MBs'].apply(convert_size)"
   ]
  },
  {
   "cell_type": "code",
   "execution_count": 18,
   "metadata": {},
   "outputs": [
    {
     "data": {
      "text/plain": [
       "dtype('float64')"
      ]
     },
     "execution_count": 18,
     "metadata": {},
     "output_type": "execute_result"
    }
   ],
   "source": [
    "df['size_in_MBs'].dtype"
   ]
  },
  {
   "cell_type": "markdown",
   "metadata": {},
   "source": [
    "# **Installs**"
   ]
  },
  {
   "cell_type": "markdown",
   "metadata": {},
   "source": [
    "1. Remove + sign\n",
    "2. Remove comma\n",
    "3. convert the column into an integer not float because\\\n",
    "install is descrete values "
   ]
  },
  {
   "cell_type": "code",
   "execution_count": 19,
   "metadata": {},
   "outputs": [
    {
     "data": {
      "text/plain": [
       "Installs\n",
       "1,000,000+        1579\n",
       "10,000,000+       1252\n",
       "100,000+          1169\n",
       "10,000+           1054\n",
       "1,000+             908\n",
       "5,000,000+         752\n",
       "100+               719\n",
       "500,000+           539\n",
       "50,000+            479\n",
       "5,000+             477\n",
       "100,000,000+       409\n",
       "10+                386\n",
       "500+               330\n",
       "50,000,000+        289\n",
       "50+                205\n",
       "5+                  82\n",
       "500,000,000+        72\n",
       "1+                  67\n",
       "1,000,000,000+      58\n",
       "0+                  14\n",
       "0                    1\n",
       "Name: count, dtype: int64"
      ]
     },
     "execution_count": 19,
     "metadata": {},
     "output_type": "execute_result"
    }
   ],
   "source": [
    "df['Installs'].value_counts()"
   ]
  },
  {
   "cell_type": "code",
   "execution_count": 20,
   "metadata": {},
   "outputs": [
    {
     "data": {
      "text/plain": [
       "np.int64(0)"
      ]
     },
     "execution_count": 20,
     "metadata": {},
     "output_type": "execute_result"
    }
   ],
   "source": [
    "# Check null values \n",
    "df['Installs'].isnull().sum() # No null values"
   ]
  },
  {
   "cell_type": "code",
   "execution_count": 21,
   "metadata": {},
   "outputs": [
    {
     "data": {
      "text/plain": [
       "np.int64(10840)"
      ]
     },
     "execution_count": 21,
     "metadata": {},
     "output_type": "execute_result"
    }
   ],
   "source": [
    "# find how many values has '+' in it\n",
    "df['Installs'].loc[df['Installs'].str.contains('\\+')].value_counts().sum()"
   ]
  },
  {
   "cell_type": "code",
   "execution_count": 22,
   "metadata": {},
   "outputs": [],
   "source": [
    "# remove + sign form the Installs column in the last i give if condition it means\n",
    "# if '+' sign is avaliable in x means Installs column then remove if rows has now '+' \n",
    "# sign then keep it him same \n",
    "df['Installs']=df['Installs'].apply(lambda x: x.replace('+','') if '+' in str(x) else x)"
   ]
  },
  {
   "cell_type": "code",
   "execution_count": 23,
   "metadata": {},
   "outputs": [],
   "source": [
    "# removing comma \n",
    "df['Installs']=df['Installs'].apply(lambda x: x.replace(',','') if ',' in str(x) else x)"
   ]
  },
  {
   "cell_type": "code",
   "execution_count": 24,
   "metadata": {},
   "outputs": [],
   "source": [
    "# convert into integer \n",
    "df['Installs']=df['Installs'].apply(lambda x: int(x))"
   ]
  },
  {
   "cell_type": "code",
   "execution_count": 25,
   "metadata": {},
   "outputs": [],
   "source": [
    "# Making a new column name \"install_category\" which will have the category of Installs\n",
    "bins=[-1, 0 , 10 , 1000 , 10000 , 100000 , 1000000 , 10000000 , 10000000000]\n",
    "\n",
    "labels=['No' , 'Very Low' , 'Low' , 'Moderate' , 'More Than Moderate' , 'High' , 'Very High' , 'Top Notch']\n",
    "\n",
    "df['install_category']=pd.cut(df['Installs'],bins=bins,labels=labels)"
   ]
  },
  {
   "cell_type": "code",
   "execution_count": 26,
   "metadata": {},
   "outputs": [
    {
     "data": {
      "text/plain": [
       "install_category\n",
       "Low                   2162\n",
       "High                  2118\n",
       "Very High             2004\n",
       "More Than Moderate    1648\n",
       "Moderate              1531\n",
       "Top Notch              828\n",
       "Very Low               535\n",
       "No                      15\n",
       "Name: count, dtype: int64"
      ]
     },
     "execution_count": 26,
     "metadata": {},
     "output_type": "execute_result"
    }
   ],
   "source": [
    "df['install_category'].value_counts()"
   ]
  },
  {
   "cell_type": "markdown",
   "metadata": {},
   "source": [
    "# **Price**"
   ]
  },
  {
   "cell_type": "markdown",
   "metadata": {},
   "source": [
    "## remove $ sign and convert into float numbers"
   ]
  },
  {
   "cell_type": "code",
   "execution_count": 27,
   "metadata": {},
   "outputs": [
    {
     "data": {
      "text/plain": [
       "np.int64(0)"
      ]
     },
     "execution_count": 27,
     "metadata": {},
     "output_type": "execute_result"
    }
   ],
   "source": [
    "# check missing values\n",
    "df.Price.isnull().sum() # no null values"
   ]
  },
  {
   "cell_type": "code",
   "execution_count": 28,
   "metadata": {},
   "outputs": [
    {
     "data": {
      "text/plain": [
       "np.int64(800)"
      ]
     },
     "execution_count": 28,
     "metadata": {},
     "output_type": "execute_result"
    }
   ],
   "source": [
    "# check how many values have $ sign\n",
    "df['Price'].loc[df['Price'].str.contains('\\$')].value_counts().sum()"
   ]
  },
  {
   "cell_type": "code",
   "execution_count": 29,
   "metadata": {},
   "outputs": [
    {
     "data": {
      "text/plain": [
       "np.int64(10041)"
      ]
     },
     "execution_count": 29,
     "metadata": {},
     "output_type": "execute_result"
    }
   ],
   "source": [
    "# count number of values in the price column contains 0 but does not contain $ sign\n",
    "df['Price'].loc[df['Price'].str.contains('0')&(~df['Price'].str.contains('\\$'))].value_counts().sum()"
   ]
  },
  {
   "cell_type": "code",
   "execution_count": 30,
   "metadata": {},
   "outputs": [],
   "source": [
    "# remove $ sign from Price column \n",
    "df['Price']=df['Price'].apply(lambda x: x.replace('$','') if '$' in str(x) else x)"
   ]
  },
  {
   "cell_type": "code",
   "execution_count": 31,
   "metadata": {},
   "outputs": [],
   "source": [
    "# Price is float column so we convert him into float numbers\n",
    "df['Price']=df['Price'].apply(lambda x: float(x))"
   ]
  },
  {
   "cell_type": "code",
   "execution_count": 32,
   "metadata": {},
   "outputs": [
    {
     "data": {
      "text/plain": [
       "Price\n",
       "0.00      10041\n",
       "0.99        148\n",
       "2.99        129\n",
       "1.99         73\n",
       "4.99         72\n",
       "3.99         63\n",
       "1.49         46\n",
       "5.99         30\n",
       "2.49         26\n",
       "9.99         21\n",
       "6.99         13\n",
       "399.99       12\n",
       "14.99        11\n",
       "4.49          9\n",
       "29.99         7\n",
       "3.49          7\n",
       "7.99          7\n",
       "24.99         7\n",
       "5.49          6\n",
       "19.99         6\n",
       "6.49          5\n",
       "8.99          5\n",
       "12.99         5\n",
       "11.99         5\n",
       "10.00         3\n",
       "1.00          3\n",
       "16.99         3\n",
       "2.00          3\n",
       "17.99         2\n",
       "10.99         2\n",
       "9.00          2\n",
       "79.99         2\n",
       "7.49          2\n",
       "3.95          2\n",
       "33.99         2\n",
       "1.70          2\n",
       "13.99         2\n",
       "8.49          2\n",
       "39.99         2\n",
       "1.50          1\n",
       "25.99         1\n",
       "74.99         1\n",
       "15.99         1\n",
       "3.88          1\n",
       "1.76          1\n",
       "3.02          1\n",
       "400.00        1\n",
       "4.84          1\n",
       "2.50          1\n",
       "1.59          1\n",
       "1.61          1\n",
       "4.77          1\n",
       "5.00          1\n",
       "1.29          1\n",
       "379.99        1\n",
       "299.99        1\n",
       "37.99         1\n",
       "18.99         1\n",
       "389.99        1\n",
       "19.90         1\n",
       "1.75          1\n",
       "14.00         1\n",
       "4.85          1\n",
       "46.99         1\n",
       "109.99        1\n",
       "154.99        1\n",
       "3.08          1\n",
       "2.59          1\n",
       "4.80          1\n",
       "1.96          1\n",
       "19.40         1\n",
       "3.90          1\n",
       "4.59          1\n",
       "15.46         1\n",
       "3.04          1\n",
       "4.29          1\n",
       "2.60          1\n",
       "3.28          1\n",
       "4.60          1\n",
       "28.99         1\n",
       "2.95          1\n",
       "2.90          1\n",
       "1.97          1\n",
       "200.00        1\n",
       "89.99         1\n",
       "2.56          1\n",
       "30.99         1\n",
       "3.61          1\n",
       "394.99        1\n",
       "1.26          1\n",
       "1.20          1\n",
       "1.04          1\n",
       "Name: count, dtype: int64"
      ]
     },
     "execution_count": 32,
     "metadata": {},
     "output_type": "execute_result"
    }
   ],
   "source": [
    "df['Price'].value_counts()"
   ]
  },
  {
   "cell_type": "code",
   "execution_count": 33,
   "metadata": {},
   "outputs": [
    {
     "data": {
      "text/html": [
       "<div>\n",
       "<style scoped>\n",
       "    .dataframe tbody tr th:only-of-type {\n",
       "        vertical-align: middle;\n",
       "    }\n",
       "\n",
       "    .dataframe tbody tr th {\n",
       "        vertical-align: top;\n",
       "    }\n",
       "\n",
       "    .dataframe thead th {\n",
       "        text-align: right;\n",
       "    }\n",
       "</style>\n",
       "<table border=\"1\" class=\"dataframe\">\n",
       "  <thead>\n",
       "    <tr style=\"text-align: right;\">\n",
       "      <th></th>\n",
       "      <th>Rating</th>\n",
       "      <th>Reviews</th>\n",
       "      <th>size_in_MBs</th>\n",
       "      <th>Installs</th>\n",
       "      <th>Price</th>\n",
       "    </tr>\n",
       "  </thead>\n",
       "  <tbody>\n",
       "    <tr>\n",
       "      <th>count</th>\n",
       "      <td>9367.000000</td>\n",
       "      <td>1.084100e+04</td>\n",
       "      <td>9146.000000</td>\n",
       "      <td>1.084100e+04</td>\n",
       "      <td>10841.000000</td>\n",
       "    </tr>\n",
       "    <tr>\n",
       "      <th>mean</th>\n",
       "      <td>4.191513</td>\n",
       "      <td>4.441119e+05</td>\n",
       "      <td>21.514141</td>\n",
       "      <td>1.546291e+07</td>\n",
       "      <td>1.027273</td>\n",
       "    </tr>\n",
       "    <tr>\n",
       "      <th>std</th>\n",
       "      <td>0.515735</td>\n",
       "      <td>2.927629e+06</td>\n",
       "      <td>22.588679</td>\n",
       "      <td>8.502557e+07</td>\n",
       "      <td>15.948971</td>\n",
       "    </tr>\n",
       "    <tr>\n",
       "      <th>min</th>\n",
       "      <td>1.000000</td>\n",
       "      <td>0.000000e+00</td>\n",
       "      <td>0.008301</td>\n",
       "      <td>0.000000e+00</td>\n",
       "      <td>0.000000</td>\n",
       "    </tr>\n",
       "    <tr>\n",
       "      <th>25%</th>\n",
       "      <td>4.000000</td>\n",
       "      <td>3.800000e+01</td>\n",
       "      <td>4.900000</td>\n",
       "      <td>1.000000e+03</td>\n",
       "      <td>0.000000</td>\n",
       "    </tr>\n",
       "    <tr>\n",
       "      <th>50%</th>\n",
       "      <td>4.300000</td>\n",
       "      <td>2.094000e+03</td>\n",
       "      <td>13.000000</td>\n",
       "      <td>1.000000e+05</td>\n",
       "      <td>0.000000</td>\n",
       "    </tr>\n",
       "    <tr>\n",
       "      <th>75%</th>\n",
       "      <td>4.500000</td>\n",
       "      <td>5.476800e+04</td>\n",
       "      <td>30.000000</td>\n",
       "      <td>5.000000e+06</td>\n",
       "      <td>0.000000</td>\n",
       "    </tr>\n",
       "    <tr>\n",
       "      <th>max</th>\n",
       "      <td>5.000000</td>\n",
       "      <td>7.815831e+07</td>\n",
       "      <td>100.000000</td>\n",
       "      <td>1.000000e+09</td>\n",
       "      <td>400.000000</td>\n",
       "    </tr>\n",
       "  </tbody>\n",
       "</table>\n",
       "</div>"
      ],
      "text/plain": [
       "            Rating       Reviews  size_in_MBs      Installs         Price\n",
       "count  9367.000000  1.084100e+04  9146.000000  1.084100e+04  10841.000000\n",
       "mean      4.191513  4.441119e+05    21.514141  1.546291e+07      1.027273\n",
       "std       0.515735  2.927629e+06    22.588679  8.502557e+07     15.948971\n",
       "min       1.000000  0.000000e+00     0.008301  0.000000e+00      0.000000\n",
       "25%       4.000000  3.800000e+01     4.900000  1.000000e+03      0.000000\n",
       "50%       4.300000  2.094000e+03    13.000000  1.000000e+05      0.000000\n",
       "75%       4.500000  5.476800e+04    30.000000  5.000000e+06      0.000000\n",
       "max       5.000000  7.815831e+07   100.000000  1.000000e+09    400.000000"
      ]
     },
     "execution_count": 33,
     "metadata": {},
     "output_type": "execute_result"
    }
   ],
   "source": [
    "# summary of dataset\n",
    "df.describe()"
   ]
  },
  {
   "cell_type": "markdown",
   "metadata": {},
   "source": [
    "# Now jump into the missing values"
   ]
  },
  {
   "cell_type": "code",
   "execution_count": 34,
   "metadata": {},
   "outputs": [
    {
     "data": {
      "text/plain": [
       "Unnamed: 13         10342\n",
       "size_in_MBs          1695\n",
       "Rating               1474\n",
       "Current Ver             8\n",
       "Android Ver             2\n",
       "Type                    1\n",
       "Category                1\n",
       "Genres                  1\n",
       "Installs                0\n",
       "App                     0\n",
       "Reviews                 0\n",
       "Last Updated            0\n",
       "Content Rating          0\n",
       "Price                   0\n",
       "install_category        0\n",
       "dtype: int64"
      ]
     },
     "execution_count": 34,
     "metadata": {},
     "output_type": "execute_result"
    }
   ],
   "source": [
    "# Find missing values\n",
    "df.isnull().sum().sort_values(ascending=False)"
   ]
  },
  {
   "cell_type": "code",
   "execution_count": 35,
   "metadata": {},
   "outputs": [
    {
     "data": {
      "text/plain": [
       "Unnamed: 13         95.397\n",
       "size_in_MBs         15.635\n",
       "Rating              13.597\n",
       "Current Ver          0.074\n",
       "Android Ver          0.018\n",
       "Type                 0.009\n",
       "Category             0.009\n",
       "Genres               0.009\n",
       "Installs             0.000\n",
       "App                  0.000\n",
       "Reviews              0.000\n",
       "Last Updated         0.000\n",
       "Content Rating       0.000\n",
       "Price                0.000\n",
       "install_category     0.000\n",
       "dtype: float64"
      ]
     },
     "execution_count": 35,
     "metadata": {},
     "output_type": "execute_result"
    }
   ],
   "source": [
    "# Check missing values in percentage\n",
    "round(df.isnull().sum()/len(df)*100,3).sort_values(ascending=False) # 3 means round upto 3 values"
   ]
  },
  {
   "cell_type": "code",
   "execution_count": 36,
   "metadata": {},
   "outputs": [],
   "source": [
    "# Remove Unnamed: 13 column because it is not neccessary to our dataset and having above 70% of missing values\n",
    "df.drop('Unnamed: 13',axis=1,inplace=True) # axis 1 means remove column and inplace True means updata my dataframe which i change"
   ]
  },
  {
   "cell_type": "code",
   "execution_count": 37,
   "metadata": {},
   "outputs": [
    {
     "data": {
      "text/plain": [
       "np.int64(3182)"
      ]
     },
     "execution_count": 37,
     "metadata": {},
     "output_type": "execute_result"
    }
   ],
   "source": [
    "# Find total number of missing values\n",
    "df.isnull().sum().sum()"
   ]
  },
  {
   "cell_type": "code",
   "execution_count": 38,
   "metadata": {},
   "outputs": [
    {
     "data": {
      "text/plain": [
       "<Axes: >"
      ]
     },
     "execution_count": 38,
     "metadata": {},
     "output_type": "execute_result"
    },
    {
     "data": {
      "image/png": "[encoded data removed]",
      "text/plain": [
       "<Figure size 900x500 with 1 Axes>"
      ]
     },
     "metadata": {},
     "output_type": "display_data"
    }
   ],
   "source": [
    "# plot of missing values\n",
    "plt.figure(figsize=(9,5))\n",
    "sns.heatmap(df.isnull(),cbar=False,yticklabels=False,cmap='viridis') # cbar hide colour legend , cmap is used for colormap\n",
    "                                                                     # and yticklabels hide rows number you can see yourself \n",
    "                                                                     # by practice this code"
   ]
  },
  {
   "cell_type": "code",
   "execution_count": 39,
   "metadata": {},
   "outputs": [
    {
     "data": {
      "text/plain": [
       "Text(0.5, 1.0, 'Percentage of missing values in each column')"
      ]
     },
     "execution_count": 39,
     "metadata": {},
     "output_type": "execute_result"
    },
    {
     "data": {
      "image/png": "[encoded data removed]",
      "text/plain": [
       "<Figure size 800x500 with 1 Axes>"
      ]
     },
     "metadata": {},
     "output_type": "display_data"
    }
   ],
   "source": [
    "# make a plot for percentage missing values\n",
    "\n",
    "# set figure size\n",
    "plt.figure(figsize=(8,5))\n",
    "# plot the null values by their percentage in each column\n",
    "missing_perc=df.isnull().sum()/len(df)*100\n",
    "missing_perc.plot(kind='bar')\n",
    "# add the labels\n",
    "plt.xlabel('Columns name')\n",
    "plt.ylabel('percentage of missing value')\n",
    "plt.title('Percentage of missing values in each column')"
   ]
  },
  {
   "cell_type": "code",
   "execution_count": 40,
   "metadata": {},
   "outputs": [
    {
     "data": {
      "text/plain": [
       "Text(0.5, 1.0, 'Percentage of missing values in each column')"
      ]
     },
     "execution_count": 40,
     "metadata": {},
     "output_type": "execute_result"
    },
    {
     "data": {
      "image/png": "[encoded data removed]",
      "text/plain": [
       "<Figure size 800x500 with 1 Axes>"
      ]
     },
     "metadata": {},
     "output_type": "display_data"
    }
   ],
   "source": [
    "# set figure size\n",
    "plt.figure(figsize=(8,5))\n",
    "# print less then 1% missing values\n",
    "missing_perc[missing_perc<1].plot(kind='bar')\n",
    "# add the labels\n",
    "plt.xlabel('Columns name')\n",
    "plt.ylabel('percentage of missing value')\n",
    "plt.title('Percentage of missing values in each column')"
   ]
  },
  {
   "cell_type": "code",
   "execution_count": 41,
   "metadata": {},
   "outputs": [
    {
     "data": {
      "text/plain": [
       "size_in_MBs         1695\n",
       "Rating              1474\n",
       "Current Ver            8\n",
       "Android Ver            2\n",
       "Category               1\n",
       "Type                   1\n",
       "Genres                 1\n",
       "Installs               0\n",
       "App                    0\n",
       "Reviews                0\n",
       "Content Rating         0\n",
       "Price                  0\n",
       "Last Updated           0\n",
       "install_category       0\n",
       "dtype: int64"
      ]
     },
     "execution_count": 41,
     "metadata": {},
     "output_type": "execute_result"
    }
   ],
   "source": [
    "# this will show the number of null values in each column in descending order\n",
    "df.isnull().sum().sort_values(ascending=False) "
   ]
  },
  {
   "cell_type": "code",
   "execution_count": 42,
   "metadata": {},
   "outputs": [
    {
     "data": {
      "text/plain": [
       "size_in_MBs         15.635089\n",
       "Rating              13.596532\n",
       "Current Ver          0.073794\n",
       "Android Ver          0.018448\n",
       "Category             0.009224\n",
       "Type                 0.009224\n",
       "Genres               0.009224\n",
       "Installs             0.000000\n",
       "App                  0.000000\n",
       "Reviews              0.000000\n",
       "Content Rating       0.000000\n",
       "Price                0.000000\n",
       "Last Updated         0.000000\n",
       "install_category     0.000000\n",
       "dtype: float64"
      ]
     },
     "execution_count": 42,
     "metadata": {},
     "output_type": "execute_result"
    }
   ],
   "source": [
    "# this will show the percentage of null values in each column\n",
    "(df.isnull().sum() / len(df) * 100).sort_values(ascending=False)"
   ]
  },
  {
   "cell_type": "markdown",
   "metadata": {},
   "source": [
    "## Observations:\n",
    "---\n",
    "- We have 1695 missing values in the `'Size_in_bytes'` and `'Size_in_Mb'` columns, which is 15.6% of the total values in the column.\n",
    "- We have 1474 missing values in the `'Rating'` column, which is 13.6% of the total values in the column.\n",
    "- We have 8 missing value in the `'Current Ver'` column, which is 0.07% of the total values in the column.\n",
    "- We have 2 missing values in the `'Android Ver'` column, which is 0.01% of the total values in the column.\n",
    "- We have only 1 missing value in `Category`, `Type` and `Genres` columns, which is 0.009% of the total values in the column.\n",
    "\n",
    "### **2.3. Dealing with the missing values**\n",
    "- We can not impute the `Rating` column as is is directly linked with the installation column. To test this Hypothesis we need to plot the `Rating` column with the `Installs` and `Size` columns and statistically test it using `pearson correlation test`.\n",
    "---"
   ]
  },
  {
   "cell_type": "markdown",
   "metadata": {},
   "source": [
    "# **Let's run the correlations**"
   ]
  },
  {
   "cell_type": "code",
   "execution_count": 43,
   "metadata": {},
   "outputs": [
    {
     "data": {
      "text/html": [
       "<div>\n",
       "<style scoped>\n",
       "    .dataframe tbody tr th:only-of-type {\n",
       "        vertical-align: middle;\n",
       "    }\n",
       "\n",
       "    .dataframe tbody tr th {\n",
       "        vertical-align: top;\n",
       "    }\n",
       "\n",
       "    .dataframe thead th {\n",
       "        text-align: right;\n",
       "    }\n",
       "</style>\n",
       "<table border=\"1\" class=\"dataframe\">\n",
       "  <thead>\n",
       "    <tr style=\"text-align: right;\">\n",
       "      <th></th>\n",
       "      <th>Rating</th>\n",
       "      <th>Reviews</th>\n",
       "      <th>size_in_MBs</th>\n",
       "      <th>Installs</th>\n",
       "      <th>Price</th>\n",
       "    </tr>\n",
       "  </thead>\n",
       "  <tbody>\n",
       "    <tr>\n",
       "      <th>count</th>\n",
       "      <td>9367.000000</td>\n",
       "      <td>1.084100e+04</td>\n",
       "      <td>9146.000000</td>\n",
       "      <td>1.084100e+04</td>\n",
       "      <td>10841.000000</td>\n",
       "    </tr>\n",
       "    <tr>\n",
       "      <th>mean</th>\n",
       "      <td>4.191513</td>\n",
       "      <td>4.441119e+05</td>\n",
       "      <td>21.514141</td>\n",
       "      <td>1.546291e+07</td>\n",
       "      <td>1.027273</td>\n",
       "    </tr>\n",
       "    <tr>\n",
       "      <th>std</th>\n",
       "      <td>0.515735</td>\n",
       "      <td>2.927629e+06</td>\n",
       "      <td>22.588679</td>\n",
       "      <td>8.502557e+07</td>\n",
       "      <td>15.948971</td>\n",
       "    </tr>\n",
       "    <tr>\n",
       "      <th>min</th>\n",
       "      <td>1.000000</td>\n",
       "      <td>0.000000e+00</td>\n",
       "      <td>0.008301</td>\n",
       "      <td>0.000000e+00</td>\n",
       "      <td>0.000000</td>\n",
       "    </tr>\n",
       "    <tr>\n",
       "      <th>25%</th>\n",
       "      <td>4.000000</td>\n",
       "      <td>3.800000e+01</td>\n",
       "      <td>4.900000</td>\n",
       "      <td>1.000000e+03</td>\n",
       "      <td>0.000000</td>\n",
       "    </tr>\n",
       "    <tr>\n",
       "      <th>50%</th>\n",
       "      <td>4.300000</td>\n",
       "      <td>2.094000e+03</td>\n",
       "      <td>13.000000</td>\n",
       "      <td>1.000000e+05</td>\n",
       "      <td>0.000000</td>\n",
       "    </tr>\n",
       "    <tr>\n",
       "      <th>75%</th>\n",
       "      <td>4.500000</td>\n",
       "      <td>5.476800e+04</td>\n",
       "      <td>30.000000</td>\n",
       "      <td>5.000000e+06</td>\n",
       "      <td>0.000000</td>\n",
       "    </tr>\n",
       "    <tr>\n",
       "      <th>max</th>\n",
       "      <td>5.000000</td>\n",
       "      <td>7.815831e+07</td>\n",
       "      <td>100.000000</td>\n",
       "      <td>1.000000e+09</td>\n",
       "      <td>400.000000</td>\n",
       "    </tr>\n",
       "  </tbody>\n",
       "</table>\n",
       "</div>"
      ],
      "text/plain": [
       "            Rating       Reviews  size_in_MBs      Installs         Price\n",
       "count  9367.000000  1.084100e+04  9146.000000  1.084100e+04  10841.000000\n",
       "mean      4.191513  4.441119e+05    21.514141  1.546291e+07      1.027273\n",
       "std       0.515735  2.927629e+06    22.588679  8.502557e+07     15.948971\n",
       "min       1.000000  0.000000e+00     0.008301  0.000000e+00      0.000000\n",
       "25%       4.000000  3.800000e+01     4.900000  1.000000e+03      0.000000\n",
       "50%       4.300000  2.094000e+03    13.000000  1.000000e+05      0.000000\n",
       "75%       4.500000  5.476800e+04    30.000000  5.000000e+06      0.000000\n",
       "max       5.000000  7.815831e+07   100.000000  1.000000e+09    400.000000"
      ]
     },
     "execution_count": 43,
     "metadata": {},
     "output_type": "execute_result"
    }
   ],
   "source": [
    "# These are numeric columns\n",
    "df.describe()"
   ]
  },
  {
   "cell_type": "code",
   "execution_count": 44,
   "metadata": {},
   "outputs": [
    {
     "data": {
      "text/plain": [
       "<Axes: >"
      ]
     },
     "execution_count": 44,
     "metadata": {},
     "output_type": "execute_result"
    },
    {
     "data": {
      "image/png": "[encoded data removed]",
      "text/plain": [
       "<Figure size 1500x1000 with 2 Axes>"
      ]
     },
     "metadata": {},
     "output_type": "display_data"
    }
   ],
   "source": [
    "# Make a correlation matrix of numeric columns\n",
    "\n",
    "# Make figure size\n",
    "plt.figure(figsize=(15,10))\n",
    "# Make a list of numeric columns\n",
    "numeric_columns=[\"Rating\",\"Reviews\",\"size_in_MBs\",\"Installs\",\"Price\"]\n",
    "\n",
    "# Plot the correlation matrix\n",
    "sns.heatmap(df[numeric_columns].corr(),annot=True)\n"
   ]
  },
  {
   "cell_type": "code",
   "execution_count": 45,
   "metadata": {},
   "outputs": [
    {
     "data": {
      "text/plain": [
       "count    9146.000000\n",
       "mean       21.514141\n",
       "std        22.588679\n",
       "min         0.008301\n",
       "25%         4.900000\n",
       "50%        13.000000\n",
       "75%        30.000000\n",
       "max       100.000000\n",
       "Name: size_in_MBs, dtype: float64"
      ]
     },
     "execution_count": 45,
     "metadata": {},
     "output_type": "execute_result"
    }
   ],
   "source": [
    "df['size_in_MBs'].describe()"
   ]
  },
  {
   "cell_type": "code",
   "execution_count": 46,
   "metadata": {},
   "outputs": [
    {
     "data": {
      "text/html": [
       "<div>\n",
       "<style scoped>\n",
       "    .dataframe tbody tr th:only-of-type {\n",
       "        vertical-align: middle;\n",
       "    }\n",
       "\n",
       "    .dataframe tbody tr th {\n",
       "        vertical-align: top;\n",
       "    }\n",
       "\n",
       "    .dataframe thead th {\n",
       "        text-align: right;\n",
       "    }\n",
       "</style>\n",
       "<table border=\"1\" class=\"dataframe\">\n",
       "  <thead>\n",
       "    <tr style=\"text-align: right;\">\n",
       "      <th></th>\n",
       "      <th>Rating</th>\n",
       "      <th>Reviews</th>\n",
       "      <th>size_in_MBs</th>\n",
       "      <th>Installs</th>\n",
       "      <th>Price</th>\n",
       "    </tr>\n",
       "  </thead>\n",
       "  <tbody>\n",
       "    <tr>\n",
       "      <th>Rating</th>\n",
       "      <td>1.000000</td>\n",
       "      <td>0.068147</td>\n",
       "      <td>0.084098</td>\n",
       "      <td>0.051393</td>\n",
       "      <td>-0.021851</td>\n",
       "    </tr>\n",
       "    <tr>\n",
       "      <th>Reviews</th>\n",
       "      <td>0.068147</td>\n",
       "      <td>1.000000</td>\n",
       "      <td>0.238218</td>\n",
       "      <td>0.643123</td>\n",
       "      <td>-0.009666</td>\n",
       "    </tr>\n",
       "    <tr>\n",
       "      <th>size_in_MBs</th>\n",
       "      <td>0.084098</td>\n",
       "      <td>0.238218</td>\n",
       "      <td>1.000000</td>\n",
       "      <td>0.164794</td>\n",
       "      <td>-0.023000</td>\n",
       "    </tr>\n",
       "    <tr>\n",
       "      <th>Installs</th>\n",
       "      <td>0.051393</td>\n",
       "      <td>0.643123</td>\n",
       "      <td>0.164794</td>\n",
       "      <td>1.000000</td>\n",
       "      <td>-0.011688</td>\n",
       "    </tr>\n",
       "    <tr>\n",
       "      <th>Price</th>\n",
       "      <td>-0.021851</td>\n",
       "      <td>-0.009666</td>\n",
       "      <td>-0.023000</td>\n",
       "      <td>-0.011688</td>\n",
       "      <td>1.000000</td>\n",
       "    </tr>\n",
       "  </tbody>\n",
       "</table>\n",
       "</div>"
      ],
      "text/plain": [
       "               Rating   Reviews  size_in_MBs  Installs     Price\n",
       "Rating       1.000000  0.068147     0.084098  0.051393 -0.021851\n",
       "Reviews      0.068147  1.000000     0.238218  0.643123 -0.009666\n",
       "size_in_MBs  0.084098  0.238218     1.000000  0.164794 -0.023000\n",
       "Installs     0.051393  0.643123     0.164794  1.000000 -0.011688\n",
       "Price       -0.021851 -0.009666    -0.023000 -0.011688  1.000000"
      ]
     },
     "execution_count": 46,
     "metadata": {},
     "output_type": "execute_result"
    }
   ],
   "source": [
    "# we can also calculate the correlation matrix using pandas\n",
    "df[numeric_columns].corr() # this will show the correlation matrix"
   ]
  },
  {
   "cell_type": "markdown",
   "metadata": {},
   "source": [
    "---\n",
    "## **Observations**\n",
    "- Lighter color shows the high correlation and darker color shows the low correlation\n",
    "- We can see that the `Reviews` column has a high correlation with the `Installs` column, which is `0.64` according to corr(). Which is quite good.\n",
    "  - This shows that the more the reviews the more the installs are for one app. If in any case we need to impute reviews we have to think of number of install.\n",
    "    - If we have an ap with `2` installs and we imputer the reviews with `1000` or via average reviews then it will be wrong.\n",
    "- Installs is slightly correlated with `Size_in_Mb` or `Size_in_bytes` , which is `0.16`, this also shows us the importance of size and Installs. But we can not depend on it as the Peason correlation is very low.\n",
    "---"
   ]
  },
  {
   "cell_type": "markdown",
   "metadata": {},
   "source": [
    "- Before going ahead, let's remove the rows with missing values in the `Current Ver`, `Android Ver`, `Category`, `Type` and `Genres` columns, as they are very less in number and will not affect our analysis."
   ]
  },
  {
   "cell_type": "code",
   "execution_count": 47,
   "metadata": {},
   "outputs": [
    {
     "name": "stdout",
     "output_type": "stream",
     "text": [
      "Length of the dataframe before removing null values: 10841\n"
     ]
    }
   ],
   "source": [
    "# length before removing null values\n",
    "print(f\"Length of the dataframe before removing null values: {len(df)}\")"
   ]
  },
  {
   "cell_type": "code",
   "execution_count": 48,
   "metadata": {},
   "outputs": [],
   "source": [
    "# remove the rows having null values in the 'Current Ver', 'Android Ver', 'Category', 'Type' and 'Genres' column\n",
    "df.dropna(subset=['Current Ver','Android Ver','Category','Type','Genres'],inplace=True)"
   ]
  },
  {
   "cell_type": "code",
   "execution_count": 49,
   "metadata": {},
   "outputs": [
    {
     "name": "stdout",
     "output_type": "stream",
     "text": [
      "Length of the dataframe after removing null values: 10829\n"
     ]
    }
   ],
   "source": [
    "# length after removing null values\n",
    "print(f\"Length of the dataframe after removing null values: {len(df)}\")"
   ]
  },
  {
   "cell_type": "markdown",
   "metadata": {},
   "source": [
    "- We have removed `12` rows having null values in the `Current Ver`, `Android Ver`, `Category`, `Type` and `Genres` columns."
   ]
  },
  {
   "cell_type": "code",
   "execution_count": 50,
   "metadata": {},
   "outputs": [
    {
     "data": {
      "text/plain": [
       "size_in_MBs         1694\n",
       "Rating              1469\n",
       "Category               0\n",
       "App                    0\n",
       "Reviews                0\n",
       "Installs               0\n",
       "Type                   0\n",
       "Price                  0\n",
       "Content Rating         0\n",
       "Genres                 0\n",
       "Last Updated           0\n",
       "Current Ver            0\n",
       "Android Ver            0\n",
       "install_category       0\n",
       "dtype: int64"
      ]
     },
     "execution_count": 50,
     "metadata": {},
     "output_type": "execute_result"
    }
   ],
   "source": [
    "# let's check the null values again\n",
    "df.isnull().sum().sort_values(ascending=False)"
   ]
  },
  {
   "cell_type": "markdown",
   "metadata": {},
   "source": [
    "---\n",
    "## **Observations**\n",
    "- Only `Rating` and `size_in_MBs` columns are left with missing values.\n",
    "  - We know that we have to be carefull while deadling with `Rating` column, as it is directly linked with the `Installs` column.\n",
    "  - In Size columns we already know about `Varies with device` values, which we have converted into null values, we do not need to impute at the moment, as every app has different size and nobody can predict that as nearly as possible.\n",
    "---"
   ]
  },
  {
   "cell_type": "code",
   "execution_count": 51,
   "metadata": {},
   "outputs": [
    {
     "data": {
      "text/plain": [
       "Index(['App', 'Category', 'Rating', 'Reviews', 'size_in_MBs', 'Installs',\n",
       "       'Type', 'Price', 'Content Rating', 'Genres', 'Last Updated',\n",
       "       'Current Ver', 'Android Ver', 'install_category'],\n",
       "      dtype='object')"
      ]
     },
     "execution_count": 51,
     "metadata": {},
     "output_type": "execute_result"
    }
   ],
   "source": [
    "df.columns"
   ]
  },
  {
   "cell_type": "markdown",
   "metadata": {},
   "source": [
    "# Jump into the Rating column to fill missing values"
   ]
  },
  {
   "cell_type": "markdown",
   "metadata": {},
   "source": [
    "### I am going to do that in `install_category`  `No` has mean NaN means 0 install so i fill this type of category with 0 \n",
    "### and Very low will be fill by 4.6 , Low will be fill by 4.17 respectively remember all values we will fill in `Rating` column "
   ]
  },
  {
   "cell_type": "code",
   "execution_count": 52,
   "metadata": {},
   "outputs": [
    {
     "data": {
      "text/html": [
       "<div>\n",
       "<style scoped>\n",
       "    .dataframe tbody tr th:only-of-type {\n",
       "        vertical-align: middle;\n",
       "    }\n",
       "\n",
       "    .dataframe tbody tr th {\n",
       "        vertical-align: top;\n",
       "    }\n",
       "\n",
       "    .dataframe thead th {\n",
       "        text-align: right;\n",
       "    }\n",
       "</style>\n",
       "<table border=\"1\" class=\"dataframe\">\n",
       "  <thead>\n",
       "    <tr style=\"text-align: right;\">\n",
       "      <th></th>\n",
       "      <th>count</th>\n",
       "      <th>mean</th>\n",
       "      <th>std</th>\n",
       "      <th>min</th>\n",
       "      <th>25%</th>\n",
       "      <th>50%</th>\n",
       "      <th>75%</th>\n",
       "      <th>max</th>\n",
       "    </tr>\n",
       "    <tr>\n",
       "      <th>install_category</th>\n",
       "      <th></th>\n",
       "      <th></th>\n",
       "      <th></th>\n",
       "      <th></th>\n",
       "      <th></th>\n",
       "      <th></th>\n",
       "      <th></th>\n",
       "      <th></th>\n",
       "    </tr>\n",
       "  </thead>\n",
       "  <tbody>\n",
       "    <tr>\n",
       "      <th>No</th>\n",
       "      <td>0.0</td>\n",
       "      <td>NaN</td>\n",
       "      <td>NaN</td>\n",
       "      <td>NaN</td>\n",
       "      <td>NaN</td>\n",
       "      <td>NaN</td>\n",
       "      <td>NaN</td>\n",
       "      <td>NaN</td>\n",
       "    </tr>\n",
       "    <tr>\n",
       "      <th>Very Low</th>\n",
       "      <td>81.0</td>\n",
       "      <td>4.637037</td>\n",
       "      <td>0.845199</td>\n",
       "      <td>1.0</td>\n",
       "      <td>4.8</td>\n",
       "      <td>5.0</td>\n",
       "      <td>5.0</td>\n",
       "      <td>5.0</td>\n",
       "    </tr>\n",
       "    <tr>\n",
       "      <th>Low</th>\n",
       "      <td>1278.0</td>\n",
       "      <td>4.170970</td>\n",
       "      <td>0.825605</td>\n",
       "      <td>1.0</td>\n",
       "      <td>3.8</td>\n",
       "      <td>4.4</td>\n",
       "      <td>4.8</td>\n",
       "      <td>5.0</td>\n",
       "    </tr>\n",
       "    <tr>\n",
       "      <th>Moderate</th>\n",
       "      <td>1440.0</td>\n",
       "      <td>4.035417</td>\n",
       "      <td>0.604428</td>\n",
       "      <td>1.4</td>\n",
       "      <td>3.8</td>\n",
       "      <td>4.2</td>\n",
       "      <td>4.5</td>\n",
       "      <td>5.0</td>\n",
       "    </tr>\n",
       "    <tr>\n",
       "      <th>More Than Moderate</th>\n",
       "      <td>1616.0</td>\n",
       "      <td>4.093255</td>\n",
       "      <td>0.505619</td>\n",
       "      <td>1.6</td>\n",
       "      <td>3.9</td>\n",
       "      <td>4.2</td>\n",
       "      <td>4.5</td>\n",
       "      <td>4.9</td>\n",
       "    </tr>\n",
       "    <tr>\n",
       "      <th>High</th>\n",
       "      <td>2113.0</td>\n",
       "      <td>4.207525</td>\n",
       "      <td>0.376594</td>\n",
       "      <td>1.8</td>\n",
       "      <td>4.0</td>\n",
       "      <td>4.3</td>\n",
       "      <td>4.5</td>\n",
       "      <td>4.9</td>\n",
       "    </tr>\n",
       "    <tr>\n",
       "      <th>Very High</th>\n",
       "      <td>2004.0</td>\n",
       "      <td>4.287076</td>\n",
       "      <td>0.294902</td>\n",
       "      <td>2.0</td>\n",
       "      <td>4.1</td>\n",
       "      <td>4.3</td>\n",
       "      <td>4.5</td>\n",
       "      <td>4.9</td>\n",
       "    </tr>\n",
       "    <tr>\n",
       "      <th>Top Notch</th>\n",
       "      <td>828.0</td>\n",
       "      <td>4.374396</td>\n",
       "      <td>0.193726</td>\n",
       "      <td>3.1</td>\n",
       "      <td>4.3</td>\n",
       "      <td>4.4</td>\n",
       "      <td>4.5</td>\n",
       "      <td>4.8</td>\n",
       "    </tr>\n",
       "  </tbody>\n",
       "</table>\n",
       "</div>"
      ],
      "text/plain": [
       "                     count      mean       std  min  25%  50%  75%  max\n",
       "install_category                                                       \n",
       "No                     0.0       NaN       NaN  NaN  NaN  NaN  NaN  NaN\n",
       "Very Low              81.0  4.637037  0.845199  1.0  4.8  5.0  5.0  5.0\n",
       "Low                 1278.0  4.170970  0.825605  1.0  3.8  4.4  4.8  5.0\n",
       "Moderate            1440.0  4.035417  0.604428  1.4  3.8  4.2  4.5  5.0\n",
       "More Than Moderate  1616.0  4.093255  0.505619  1.6  3.9  4.2  4.5  4.9\n",
       "High                2113.0  4.207525  0.376594  1.8  4.0  4.3  4.5  4.9\n",
       "Very High           2004.0  4.287076  0.294902  2.0  4.1  4.3  4.5  4.9\n",
       "Top Notch            828.0  4.374396  0.193726  3.1  4.3  4.4  4.5  4.8"
      ]
     },
     "execution_count": 52,
     "metadata": {},
     "output_type": "execute_result"
    }
   ],
   "source": [
    "# use group by function to find the trend of Rating in each install_category\n",
    "df.groupby('install_category')['Rating'].describe()"
   ]
  },
  {
   "cell_type": "code",
   "execution_count": 53,
   "metadata": {},
   "outputs": [
    {
     "data": {
      "text/plain": [
       "install_category\n",
       "Low                   880\n",
       "Very Low              453\n",
       "Moderate               88\n",
       "More Than Moderate     31\n",
       "No                     14\n",
       "High                    3\n",
       "Very High               0\n",
       "Top Notch               0\n",
       "Name: count, dtype: int64"
      ]
     },
     "execution_count": 53,
     "metadata": {},
     "output_type": "execute_result"
    }
   ],
   "source": [
    "# in which Install_category the Rating has NaN values\n",
    "df['install_category'].loc[df['Rating'].isnull()].value_counts()"
   ]
  },
  {
   "cell_type": "code",
   "execution_count": 54,
   "metadata": {},
   "outputs": [],
   "source": [
    "# Now fill values base on install_category i mean to say group by filling with respect to install_category ]\n",
    "# transform means fillin values by grouping\n",
    "df['Rating'] = df.groupby('install_category')['Rating'].transform(lambda x: x.fillna(x.mean()))"
   ]
  },
  {
   "cell_type": "code",
   "execution_count": 55,
   "metadata": {},
   "outputs": [
    {
     "data": {
      "text/plain": [
       "install_category\n",
       "No                    14\n",
       "Very Low               0\n",
       "Low                    0\n",
       "Moderate               0\n",
       "More Than Moderate     0\n",
       "High                   0\n",
       "Very High              0\n",
       "Top Notch              0\n",
       "Name: count, dtype: int64"
      ]
     },
     "execution_count": 55,
     "metadata": {},
     "output_type": "execute_result"
    }
   ],
   "source": [
    "df['install_category'].loc[df['Rating'].isnull()].value_counts()"
   ]
  },
  {
   "cell_type": "code",
   "execution_count": 56,
   "metadata": {},
   "outputs": [],
   "source": [
    "# 'No' has 14 means mean is NaN you can see in above code so we will fill Rating column with 0\n",
    "df.Rating.fillna(0,inplace=True)"
   ]
  },
  {
   "cell_type": "code",
   "execution_count": 57,
   "metadata": {},
   "outputs": [
    {
     "data": {
      "text/plain": [
       "install_category\n",
       "No                    0\n",
       "Very Low              0\n",
       "Low                   0\n",
       "Moderate              0\n",
       "More Than Moderate    0\n",
       "High                  0\n",
       "Very High             0\n",
       "Top Notch             0\n",
       "Name: count, dtype: int64"
      ]
     },
     "execution_count": 57,
     "metadata": {},
     "output_type": "execute_result"
    }
   ],
   "source": [
    "df['install_category'].loc[df['Rating'].isnull()].value_counts()"
   ]
  },
  {
   "cell_type": "code",
   "execution_count": 58,
   "metadata": {},
   "outputs": [
    {
     "data": {
      "text/plain": [
       "App                    0\n",
       "Category               0\n",
       "Rating                 0\n",
       "Reviews                0\n",
       "size_in_MBs         1694\n",
       "Installs               0\n",
       "Type                   0\n",
       "Price                  0\n",
       "Content Rating         0\n",
       "Genres                 0\n",
       "Last Updated           0\n",
       "Current Ver            0\n",
       "Android Ver            0\n",
       "install_category       0\n",
       "dtype: int64"
      ]
     },
     "execution_count": 58,
     "metadata": {},
     "output_type": "execute_result"
    }
   ],
   "source": [
    "# Now check missing values\n",
    "df.isnull().sum()"
   ]
  },
  {
   "cell_type": "markdown",
   "metadata": {},
   "source": [
    "# Jump into the size_in_MBs "
   ]
  },
  {
   "cell_type": "markdown",
   "metadata": {},
   "source": [
    "## I will fill missing values same as Rating \n",
    "## but there category column name is `Category`"
   ]
  },
  {
   "cell_type": "code",
   "execution_count": 59,
   "metadata": {},
   "outputs": [
    {
     "data": {
      "text/plain": [
       "Category\n",
       "FAMILY                 139\n",
       "GAME                   129\n",
       "COMMUNICATION          122\n",
       "PRODUCTIVITY           121\n",
       "TOOLS                  104\n",
       "SOCIAL                  85\n",
       "PHOTOGRAPHY             81\n",
       "HEALTH_AND_FITNESS      77\n",
       "SPORTS                  73\n",
       "NEWS_AND_MAGAZINES      67\n",
       "TRAVEL_AND_LOCAL        66\n",
       "BUSINESS                60\n",
       "FINANCE                 59\n",
       "SHOPPING                59\n",
       "ENTERTAINMENT           59\n",
       "EDUCATION               45\n",
       "VIDEO_PLAYERS           44\n",
       "PERSONALIZATION         37\n",
       "LIFESTYLE               37\n",
       "BOOKS_AND_REFERENCE     34\n",
       "MEDICAL                 29\n",
       "MAPS_AND_NAVIGATION     29\n",
       "FOOD_AND_DRINK          27\n",
       "WEATHER                 25\n",
       "DATING                  22\n",
       "HOUSE_AND_HOME          20\n",
       "AUTO_AND_VEHICLES       10\n",
       "COMICS                   9\n",
       "EVENTS                   7\n",
       "PARENTING                6\n",
       "BEAUTY                   6\n",
       "ART_AND_DESIGN           3\n",
       "LIBRARIES_AND_DEMO       3\n",
       "Name: count, dtype: int64"
      ]
     },
     "execution_count": 59,
     "metadata": {},
     "output_type": "execute_result"
    }
   ],
   "source": [
    "# in which Category the size_in_MBs has NaN values\n",
    "df['Category'].loc[df['size_in_MBs'].isnull()].value_counts()"
   ]
  },
  {
   "cell_type": "code",
   "execution_count": 60,
   "metadata": {},
   "outputs": [],
   "source": [
    "# Now fill values base on Category i mean to say group by filling with respect to Category \n",
    "# transform means fillin values by grouping\n",
    "df['size_in_MBs']= df.groupby('Category')['size_in_MBs'].transform(lambda x:x.fillna(x.mean()))"
   ]
  },
  {
   "cell_type": "code",
   "execution_count": 61,
   "metadata": {},
   "outputs": [
    {
     "data": {
      "text/plain": [
       "App                 0\n",
       "Category            0\n",
       "Rating              0\n",
       "Reviews             0\n",
       "size_in_MBs         0\n",
       "Installs            0\n",
       "Type                0\n",
       "Price               0\n",
       "Content Rating      0\n",
       "Genres              0\n",
       "Last Updated        0\n",
       "Current Ver         0\n",
       "Android Ver         0\n",
       "install_category    0\n",
       "dtype: int64"
      ]
     },
     "execution_count": 61,
     "metadata": {},
     "output_type": "execute_result"
    }
   ],
   "source": [
    "# Now check null values\n",
    "df.isnull().sum()"
   ]
  },
  {
   "cell_type": "markdown",
   "metadata": {},
   "source": [
    "# Now visuilization part"
   ]
  },
  {
   "cell_type": "code",
   "execution_count": 62,
   "metadata": {},
   "outputs": [
    {
     "data": {
      "text/plain": [
       "<Axes: xlabel='install_category', ylabel='Reviews'>"
      ]
     },
     "execution_count": 62,
     "metadata": {},
     "output_type": "execute_result"
    },
    {
     "data": {
      "image/png": "[encoded data removed]",
      "text/plain": [
       "<Figure size 1600x600 with 1 Axes>"
      ]
     },
     "metadata": {},
     "output_type": "display_data"
    }
   ],
   "source": [
    "# Make a box plot for Reviews column \n",
    "plt.figure(figsize=(16, 6)) # make figure size\n",
    "sns.boxplot(x='install_category', y= 'Reviews', data=df) # plot the boxplot"
   ]
  },
  {
   "cell_type": "markdown",
   "metadata": {},
   "source": [
    "### The data looks really imbalance, let's normalize the data using log transformation"
   ]
  },
  {
   "cell_type": "code",
   "execution_count": 63,
   "metadata": {},
   "outputs": [
    {
     "data": {
      "text/plain": [
       "<Axes: xlabel='install_category', ylabel='Reviews'>"
      ]
     },
     "execution_count": 63,
     "metadata": {},
     "output_type": "execute_result"
    },
    {
     "data": {
      "image/png": "[encoded data removed]",
      "text/plain": [
       "<Figure size 1600x600 with 1 Axes>"
      ]
     },
     "metadata": {},
     "output_type": "display_data"
    }
   ],
   "source": [
    "# let's plot the same plots for Reviews column as well\n",
    "plt.figure(figsize=(16, 6)) # make figure size\n",
    "sns.boxplot(x='install_category', y= np.log10(df['Reviews']), data=df) # plot the boxplot"
   ]
  },
  {
   "cell_type": "markdown",
   "metadata": {},
   "source": [
    "### We also draw the scatter plot of the `Rating` and `Review` columns with the `install_category` column"
   ]
  },
  {
   "cell_type": "code",
   "execution_count": 64,
   "metadata": {},
   "outputs": [
    {
     "data": {
      "text/plain": [
       "<Axes: xlabel='Rating', ylabel='Reviews'>"
      ]
     },
     "execution_count": 64,
     "metadata": {},
     "output_type": "execute_result"
    },
    {
     "data": {
      "image/png": "[encoded data removed]",
      "text/plain": [
       "<Figure size 1000x700 with 1 Axes>"
      ]
     },
     "metadata": {},
     "output_type": "display_data"
    }
   ],
   "source": [
    "# Draw a scatter plot among Review , Rating and Installs\n",
    "plt.figure(figsize=(10,7)) # make figure size\n",
    "sns.scatterplot(x='Rating' , y='Reviews' , hue='install_category' , data=df) # plot the scatter plot"
   ]
  },
  {
   "cell_type": "markdown",
   "metadata": {},
   "source": [
    "###  It doesn't show any trend, because, you should know that Rating is a categorical variable (Ordinal) and Reviews is a continuous variable, therefore, we can not plot them together.\n",
    "###  Let's try with Reviews and Installs"
   ]
  },
  {
   "cell_type": "code",
   "execution_count": 65,
   "metadata": {},
   "outputs": [
    {
     "data": {
      "text/plain": [
       "<Axes: xlabel='Reviews', ylabel='Installs'>"
      ]
     },
     "execution_count": 65,
     "metadata": {},
     "output_type": "execute_result"
    },
    {
     "data": {
      "image/png": "[encoded data removed]",
      "text/plain": [
       "<Figure size 1600x600 with 1 Axes>"
      ]
     },
     "metadata": {},
     "output_type": "display_data"
    }
   ],
   "source": [
    "# plot reviews and installs in a scatter plot\n",
    "plt.figure(figsize=(16, 6)) # make figure size\n",
    "sns.scatterplot(x='Reviews' , y='Installs' , data=df , color='yellow') # plot the scatter plot\n",
    "\n",
    "# My dear sir Dr. Mohammad Ammar Tufail Favirout Colour 'Yellow' that's why i pic this colour\n"
   ]
  },
  {
   "cell_type": "markdown",
   "metadata": {},
   "source": [
    "###  We did not see any trend and the issue is we need to normalize the data before plotting it, let's try with log transformation"
   ]
  },
  {
   "cell_type": "code",
   "execution_count": 66,
   "metadata": {},
   "outputs": [
    {
     "data": {
      "text/plain": [
       "<Axes: xlabel='Reviews', ylabel='Installs'>"
      ]
     },
     "execution_count": 66,
     "metadata": {},
     "output_type": "execute_result"
    },
    {
     "data": {
      "image/png": "[encoded data removed]",
      "text/plain": [
       "<Figure size 1000x700 with 1 Axes>"
      ]
     },
     "metadata": {},
     "output_type": "display_data"
    }
   ],
   "source": [
    "# plot reviews and installs in a scatter plot\n",
    "plt.figure(figsize=(10,7)) # make a figure size\n",
    "sns.scatterplot(data=df , x=np.log10(df['Reviews']) , y=np.log10(df['Installs']) , color='yellow') # Plot the scatter plot"
   ]
  },
  {
   "cell_type": "markdown",
   "metadata": {},
   "source": [
    "### Let's plot a line plot to see the trend"
   ]
  },
  {
   "cell_type": "code",
   "execution_count": 67,
   "metadata": {},
   "outputs": [
    {
     "data": {
      "text/plain": [
       "<seaborn.axisgrid.FacetGrid at 0x122ac2cabd0>"
      ]
     },
     "execution_count": 67,
     "metadata": {},
     "output_type": "execute_result"
    },
    {
     "data": {
      "text/plain": [
       "<Figure size 1600x600 with 0 Axes>"
      ]
     },
     "metadata": {},
     "output_type": "display_data"
    },
    {
     "data": {
      "image/png": "[encoded data removed]",
      "text/plain": [
       "<Figure size 500x500 with 1 Axes>"
      ]
     },
     "metadata": {},
     "output_type": "display_data"
    }
   ],
   "source": [
    "# plot reviews and installs in a scatter plot with trend line\n",
    "plt.figure(figsize=(16, 6)) # make figure size\n",
    "sns.lmplot(x='Reviews', y='Installs', data=df) # plot the scatter plot with trend line\n"
   ]
  },
  {
   "cell_type": "markdown",
   "metadata": {},
   "source": [
    "### Here, we can see a nice trend, which shows that number of Reviews increases with the number of Installs, which is quite obvious."
   ]
  },
  {
   "cell_type": "markdown",
   "metadata": {},
   "source": [
    "# Checking and removing duplicates"
   ]
  },
  {
   "cell_type": "code",
   "execution_count": 68,
   "metadata": {},
   "outputs": [
    {
     "name": "stdout",
     "output_type": "stream",
     "text": [
      "Number of duplicates in df are: 483\n"
     ]
    }
   ],
   "source": [
    "# print the number of duplicates in df\n",
    "print(f\"Number of duplicates in df are: {df.duplicated().sum()}\")"
   ]
  },
  {
   "cell_type": "code",
   "execution_count": 69,
   "metadata": {},
   "outputs": [
    {
     "data": {
      "text/html": [
       "<div>\n",
       "<style scoped>\n",
       "    .dataframe tbody tr th:only-of-type {\n",
       "        vertical-align: middle;\n",
       "    }\n",
       "\n",
       "    .dataframe tbody tr th {\n",
       "        vertical-align: top;\n",
       "    }\n",
       "\n",
       "    .dataframe thead th {\n",
       "        text-align: right;\n",
       "    }\n",
       "</style>\n",
       "<table border=\"1\" class=\"dataframe\">\n",
       "  <thead>\n",
       "    <tr style=\"text-align: right;\">\n",
       "      <th></th>\n",
       "      <th>App</th>\n",
       "      <th>Category</th>\n",
       "      <th>Rating</th>\n",
       "      <th>Reviews</th>\n",
       "      <th>size_in_MBs</th>\n",
       "      <th>Installs</th>\n",
       "      <th>Type</th>\n",
       "      <th>Price</th>\n",
       "      <th>Content Rating</th>\n",
       "      <th>Genres</th>\n",
       "      <th>Last Updated</th>\n",
       "      <th>Current Ver</th>\n",
       "      <th>Android Ver</th>\n",
       "      <th>install_category</th>\n",
       "    </tr>\n",
       "  </thead>\n",
       "  <tbody>\n",
       "    <tr>\n",
       "      <th>1393</th>\n",
       "      <td>10 Best Foods for You</td>\n",
       "      <td>HEALTH_AND_FITNESS</td>\n",
       "      <td>4.0</td>\n",
       "      <td>2490</td>\n",
       "      <td>3.8</td>\n",
       "      <td>500000</td>\n",
       "      <td>Free</td>\n",
       "      <td>0.00</td>\n",
       "      <td>Everyone 10+</td>\n",
       "      <td>Health &amp; Fitness</td>\n",
       "      <td>February 17, 2017</td>\n",
       "      <td>1.9</td>\n",
       "      <td>2.3.3 and up</td>\n",
       "      <td>High</td>\n",
       "    </tr>\n",
       "    <tr>\n",
       "      <th>1407</th>\n",
       "      <td>10 Best Foods for You</td>\n",
       "      <td>HEALTH_AND_FITNESS</td>\n",
       "      <td>4.0</td>\n",
       "      <td>2490</td>\n",
       "      <td>3.8</td>\n",
       "      <td>500000</td>\n",
       "      <td>Free</td>\n",
       "      <td>0.00</td>\n",
       "      <td>Everyone 10+</td>\n",
       "      <td>Health &amp; Fitness</td>\n",
       "      <td>February 17, 2017</td>\n",
       "      <td>1.9</td>\n",
       "      <td>2.3.3 and up</td>\n",
       "      <td>High</td>\n",
       "    </tr>\n",
       "    <tr>\n",
       "      <th>2543</th>\n",
       "      <td>1800 Contacts - Lens Store</td>\n",
       "      <td>MEDICAL</td>\n",
       "      <td>4.7</td>\n",
       "      <td>23160</td>\n",
       "      <td>26.0</td>\n",
       "      <td>1000000</td>\n",
       "      <td>Free</td>\n",
       "      <td>0.00</td>\n",
       "      <td>Everyone</td>\n",
       "      <td>Medical</td>\n",
       "      <td>July 27, 2018</td>\n",
       "      <td>7.4.1</td>\n",
       "      <td>5.0 and up</td>\n",
       "      <td>High</td>\n",
       "    </tr>\n",
       "    <tr>\n",
       "      <th>2322</th>\n",
       "      <td>1800 Contacts - Lens Store</td>\n",
       "      <td>MEDICAL</td>\n",
       "      <td>4.7</td>\n",
       "      <td>23160</td>\n",
       "      <td>26.0</td>\n",
       "      <td>1000000</td>\n",
       "      <td>Free</td>\n",
       "      <td>0.00</td>\n",
       "      <td>Everyone</td>\n",
       "      <td>Medical</td>\n",
       "      <td>July 27, 2018</td>\n",
       "      <td>7.4.1</td>\n",
       "      <td>5.0 and up</td>\n",
       "      <td>High</td>\n",
       "    </tr>\n",
       "    <tr>\n",
       "      <th>2385</th>\n",
       "      <td>2017 EMRA Antibiotic Guide</td>\n",
       "      <td>MEDICAL</td>\n",
       "      <td>4.4</td>\n",
       "      <td>12</td>\n",
       "      <td>3.8</td>\n",
       "      <td>1000</td>\n",
       "      <td>Paid</td>\n",
       "      <td>16.99</td>\n",
       "      <td>Everyone</td>\n",
       "      <td>Medical</td>\n",
       "      <td>January 27, 2017</td>\n",
       "      <td>1.0.5</td>\n",
       "      <td>4.0.3 and up</td>\n",
       "      <td>Low</td>\n",
       "    </tr>\n",
       "    <tr>\n",
       "      <th>2256</th>\n",
       "      <td>2017 EMRA Antibiotic Guide</td>\n",
       "      <td>MEDICAL</td>\n",
       "      <td>4.4</td>\n",
       "      <td>12</td>\n",
       "      <td>3.8</td>\n",
       "      <td>1000</td>\n",
       "      <td>Paid</td>\n",
       "      <td>16.99</td>\n",
       "      <td>Everyone</td>\n",
       "      <td>Medical</td>\n",
       "      <td>January 27, 2017</td>\n",
       "      <td>1.0.5</td>\n",
       "      <td>4.0.3 and up</td>\n",
       "      <td>Low</td>\n",
       "    </tr>\n",
       "    <tr>\n",
       "      <th>1337</th>\n",
       "      <td>21-Day Meditation Experience</td>\n",
       "      <td>HEALTH_AND_FITNESS</td>\n",
       "      <td>4.4</td>\n",
       "      <td>11506</td>\n",
       "      <td>15.0</td>\n",
       "      <td>100000</td>\n",
       "      <td>Free</td>\n",
       "      <td>0.00</td>\n",
       "      <td>Everyone</td>\n",
       "      <td>Health &amp; Fitness</td>\n",
       "      <td>August 2, 2018</td>\n",
       "      <td>3.0.0</td>\n",
       "      <td>4.1 and up</td>\n",
       "      <td>More Than Moderate</td>\n",
       "    </tr>\n",
       "    <tr>\n",
       "      <th>1434</th>\n",
       "      <td>21-Day Meditation Experience</td>\n",
       "      <td>HEALTH_AND_FITNESS</td>\n",
       "      <td>4.4</td>\n",
       "      <td>11506</td>\n",
       "      <td>15.0</td>\n",
       "      <td>100000</td>\n",
       "      <td>Free</td>\n",
       "      <td>0.00</td>\n",
       "      <td>Everyone</td>\n",
       "      <td>Health &amp; Fitness</td>\n",
       "      <td>August 2, 2018</td>\n",
       "      <td>3.0.0</td>\n",
       "      <td>4.1 and up</td>\n",
       "      <td>More Than Moderate</td>\n",
       "    </tr>\n",
       "    <tr>\n",
       "      <th>3083</th>\n",
       "      <td>365Scores - Live Scores</td>\n",
       "      <td>SPORTS</td>\n",
       "      <td>4.6</td>\n",
       "      <td>666521</td>\n",
       "      <td>25.0</td>\n",
       "      <td>10000000</td>\n",
       "      <td>Free</td>\n",
       "      <td>0.00</td>\n",
       "      <td>Everyone</td>\n",
       "      <td>Sports</td>\n",
       "      <td>July 29, 2018</td>\n",
       "      <td>5.5.9</td>\n",
       "      <td>4.1 and up</td>\n",
       "      <td>Very High</td>\n",
       "    </tr>\n",
       "    <tr>\n",
       "      <th>5415</th>\n",
       "      <td>365Scores - Live Scores</td>\n",
       "      <td>SPORTS</td>\n",
       "      <td>4.6</td>\n",
       "      <td>666246</td>\n",
       "      <td>25.0</td>\n",
       "      <td>10000000</td>\n",
       "      <td>Free</td>\n",
       "      <td>0.00</td>\n",
       "      <td>Everyone</td>\n",
       "      <td>Sports</td>\n",
       "      <td>July 29, 2018</td>\n",
       "      <td>5.5.9</td>\n",
       "      <td>4.1 and up</td>\n",
       "      <td>Very High</td>\n",
       "    </tr>\n",
       "  </tbody>\n",
       "</table>\n",
       "</div>"
      ],
      "text/plain": [
       "                               App            Category  Rating  Reviews  \\\n",
       "1393         10 Best Foods for You  HEALTH_AND_FITNESS     4.0     2490   \n",
       "1407         10 Best Foods for You  HEALTH_AND_FITNESS     4.0     2490   \n",
       "2543    1800 Contacts - Lens Store             MEDICAL     4.7    23160   \n",
       "2322    1800 Contacts - Lens Store             MEDICAL     4.7    23160   \n",
       "2385    2017 EMRA Antibiotic Guide             MEDICAL     4.4       12   \n",
       "2256    2017 EMRA Antibiotic Guide             MEDICAL     4.4       12   \n",
       "1337  21-Day Meditation Experience  HEALTH_AND_FITNESS     4.4    11506   \n",
       "1434  21-Day Meditation Experience  HEALTH_AND_FITNESS     4.4    11506   \n",
       "3083       365Scores - Live Scores              SPORTS     4.6   666521   \n",
       "5415       365Scores - Live Scores              SPORTS     4.6   666246   \n",
       "\n",
       "      size_in_MBs  Installs  Type  Price Content Rating            Genres  \\\n",
       "1393          3.8    500000  Free   0.00   Everyone 10+  Health & Fitness   \n",
       "1407          3.8    500000  Free   0.00   Everyone 10+  Health & Fitness   \n",
       "2543         26.0   1000000  Free   0.00       Everyone           Medical   \n",
       "2322         26.0   1000000  Free   0.00       Everyone           Medical   \n",
       "2385          3.8      1000  Paid  16.99       Everyone           Medical   \n",
       "2256          3.8      1000  Paid  16.99       Everyone           Medical   \n",
       "1337         15.0    100000  Free   0.00       Everyone  Health & Fitness   \n",
       "1434         15.0    100000  Free   0.00       Everyone  Health & Fitness   \n",
       "3083         25.0  10000000  Free   0.00       Everyone            Sports   \n",
       "5415         25.0  10000000  Free   0.00       Everyone            Sports   \n",
       "\n",
       "           Last Updated Current Ver   Android Ver    install_category  \n",
       "1393  February 17, 2017         1.9  2.3.3 and up                High  \n",
       "1407  February 17, 2017         1.9  2.3.3 and up                High  \n",
       "2543      July 27, 2018       7.4.1    5.0 and up                High  \n",
       "2322      July 27, 2018       7.4.1    5.0 and up                High  \n",
       "2385   January 27, 2017       1.0.5  4.0.3 and up                 Low  \n",
       "2256   January 27, 2017       1.0.5  4.0.3 and up                 Low  \n",
       "1337     August 2, 2018       3.0.0    4.1 and up  More Than Moderate  \n",
       "1434     August 2, 2018       3.0.0    4.1 and up  More Than Moderate  \n",
       "3083      July 29, 2018       5.5.9    4.1 and up           Very High  \n",
       "5415      July 29, 2018       5.5.9    4.1 and up           Very High  "
      ]
     },
     "execution_count": 69,
     "metadata": {},
     "output_type": "execute_result"
    }
   ],
   "source": [
    "# find exact duplicates and print them\n",
    "df[df['App'].duplicated(keep=False)].sort_values(by='App').head(10)"
   ]
  },
  {
   "cell_type": "markdown",
   "metadata": {},
   "source": [
    "### You can see complete row is duplicate \n",
    "### Remove duplicates means remove complete row from dataframe\n"
   ]
  },
  {
   "cell_type": "code",
   "execution_count": 70,
   "metadata": {},
   "outputs": [],
   "source": [
    "# remove duplicate\n",
    "df.drop_duplicates(inplace=True)"
   ]
  },
  {
   "cell_type": "code",
   "execution_count": 71,
   "metadata": {},
   "outputs": [
    {
     "data": {
      "text/plain": [
       "np.int64(0)"
      ]
     },
     "execution_count": 71,
     "metadata": {},
     "output_type": "execute_result"
    }
   ],
   "source": [
    "# Check duplicate\n",
    "df.duplicated().sum()"
   ]
  },
  {
   "cell_type": "code",
   "execution_count": 72,
   "metadata": {},
   "outputs": [
    {
     "name": "stdout",
     "output_type": "stream",
     "text": [
      "The number of Rows after removing duplicates 10346\n"
     ]
    }
   ],
   "source": [
    "# number of rows after removing duplicates\n",
    "print(f'The number of Rows after removing duplicates {df.shape[0]}')\n"
   ]
  },
  {
   "cell_type": "markdown",
   "metadata": {},
   "source": [
    "### Now we have removed 483 duplicates from the dataset. and have 10346 rows left.\n",
    "\n",
    "---"
   ]
  },
  {
   "cell_type": "markdown",
   "metadata": {},
   "source": [
    "## **Insights from Data**"
   ]
  },
  {
   "cell_type": "markdown",
   "metadata": {},
   "source": [
    "## **Which category has the highest number of apps?**"
   ]
  },
  {
   "cell_type": "code",
   "execution_count": 73,
   "metadata": {},
   "outputs": [
    {
     "data": {
      "text/plain": [
       "Category\n",
       "FAMILY             1939\n",
       "GAME               1121\n",
       "TOOLS               841\n",
       "BUSINESS            427\n",
       "MEDICAL             408\n",
       "PRODUCTIVITY        407\n",
       "PERSONALIZATION     386\n",
       "LIFESTYLE           373\n",
       "COMMUNICATION       366\n",
       "FINANCE             360\n",
       "Name: count, dtype: int64"
      ]
     },
     "execution_count": 73,
     "metadata": {},
     "output_type": "execute_result"
    }
   ],
   "source": [
    "# which category has highest number of apps\n",
    "df['Category'].value_counts().head(10) # this will show the top 10 categories with highest number of apps"
   ]
  },
  {
   "cell_type": "markdown",
   "metadata": {},
   "source": [
    "# **Which category has the highest number of installs?**"
   ]
  },
  {
   "cell_type": "code",
   "execution_count": 74,
   "metadata": {},
   "outputs": [
    {
     "data": {
      "text/plain": [
       "Category\n",
       "GAME                  31544024415\n",
       "COMMUNICATION         24152276251\n",
       "SOCIAL                12513867902\n",
       "PRODUCTIVITY          12463091369\n",
       "TOOLS                 11452271905\n",
       "FAMILY                10041632405\n",
       "PHOTOGRAPHY            9721247655\n",
       "TRAVEL_AND_LOCAL       6361887146\n",
       "VIDEO_PLAYERS          6222002720\n",
       "NEWS_AND_MAGAZINES     5393217760\n",
       "Name: Installs, dtype: int64"
      ]
     },
     "execution_count": 74,
     "metadata": {},
     "output_type": "execute_result"
    }
   ],
   "source": [
    "# category with highest number of Installs\n",
    "df.groupby('Category')['Installs'].sum().sort_values(ascending=False).head(10)"
   ]
  },
  {
   "cell_type": "markdown",
   "metadata": {},
   "source": [
    "# **Which category has the highest number of reviews?**"
   ]
  },
  {
   "cell_type": "code",
   "execution_count": 75,
   "metadata": {},
   "outputs": [
    {
     "data": {
      "text/plain": [
       "Category\n",
       "GAME               1415536650\n",
       "COMMUNICATION       601273552\n",
       "SOCIAL              533576829\n",
       "FAMILY              396771746\n",
       "TOOLS               273181033\n",
       "PHOTOGRAPHY         204297410\n",
       "VIDEO_PLAYERS       110380188\n",
       "PRODUCTIVITY        102554498\n",
       "SHOPPING             94931162\n",
       "PERSONALIZATION      75192744\n",
       "Name: Reviews, dtype: int64"
      ]
     },
     "execution_count": 75,
     "metadata": {},
     "output_type": "execute_result"
    }
   ],
   "source": [
    "# Category with highest number of Reviews\n",
    "df.groupby('Category')['Reviews'].sum().sort_values(ascending=False).head(10)"
   ]
  },
  {
   "cell_type": "markdown",
   "metadata": {},
   "source": [
    "# **Which category has the highest rating?**"
   ]
  },
  {
   "cell_type": "code",
   "execution_count": 76,
   "metadata": {},
   "outputs": [
    {
     "data": {
      "text/plain": [
       "Category\n",
       "EVENTS                 4.394346\n",
       "EDUCATION              4.373794\n",
       "BOOKS_AND_REFERENCE    4.358435\n",
       "PERSONALIZATION        4.322099\n",
       "ART_AND_DESIGN         4.298885\n",
       "GAME                   4.281926\n",
       "HEALTH_AND_FITNESS     4.273890\n",
       "PARENTING              4.259759\n",
       "SHOPPING               4.253376\n",
       "SPORTS                 4.253041\n",
       "Name: Rating, dtype: float64"
      ]
     },
     "execution_count": 76,
     "metadata": {},
     "output_type": "execute_result"
    }
   ],
   "source": [
    "# Category with highest average Rating\n",
    "df.groupby('Category')['Rating'].mean().sort_values(ascending=False).head(10)"
   ]
  },
  {
   "cell_type": "code",
   "execution_count": 77,
   "metadata": {},
   "outputs": [
    {
     "data": {
      "text/plain": [
       "<Axes: xlabel='Rating', ylabel='Count'>"
      ]
     },
     "execution_count": 77,
     "metadata": {},
     "output_type": "execute_result"
    },
    {
     "data": {
      "image/png": "[encoded data removed]",
      "text/plain": [
       "<Figure size 1600x600 with 1 Axes>"
      ]
     },
     "metadata": {},
     "output_type": "display_data"
    }
   ],
   "source": [
    "# plot the rating distribution\n",
    "plt.figure(figsize=(16, 6)) # set figure size\n",
    "sns.histplot(df['Rating'], color=\"blue\", kde=True, bins=25) # plot the distribution plot"
   ]
  },
  {
   "cell_type": "markdown",
   "metadata": {},
   "source": [
    "### **Check Distribution Through Shapiro Wilk Test**"
   ]
  },
  {
   "cell_type": "markdown",
   "metadata": {},
   "source": [
    "#### Shapiro Wilk Test\n",
    "- Test Says If pvalue is greater Then 0.05 So We Fail To Reject Null Hypothesis: (H0) Means (Accept Null Hypothesis) Which Says Data Is Normal Distributed And Vice Versa"
   ]
  },
  {
   "cell_type": "markdown",
   "metadata": {},
   "source": [
    "- Null Hypothesis: H0 : Rating Column is Normal Distributed \n",
    "\n",
    "- Alternatinve Hypothesis: H1 : Rating Column is Not Normal Distributed "
   ]
  },
  {
   "cell_type": "code",
   "execution_count": 78,
   "metadata": {},
   "outputs": [
    {
     "name": "stdout",
     "output_type": "stream",
     "text": [
      "Statistic Value : 0.8268346720422337\n",
      "\n",
      "Pvalue : 3.060062900573678e-74\n",
      "\n",
      "pvalue:(3.060062900573678e-74) is less Then 0.05 Reject Null Hypothesis\n"
     ]
    }
   ],
   "source": [
    "# Check Distribution Through Shapiro Wilk Test\n",
    "\n",
    "import scipy.stats as stats\n",
    "# Apply Test\n",
    "statistic, pvalue=stats.shapiro(df['Rating'])\n",
    "print(f'Statistic Value : {statistic}')\n",
    "print()\n",
    "print(f'Pvalue : {pvalue}')\n",
    "print()\n",
    "\n",
    "# See Results Throuhg if else conditions\n",
    "\n",
    "if pvalue > 0.05:\n",
    "    print(f'pvalue:({pvalue}) is Greater Then 0.05 Fail to Reject Null Hypothesis')\n",
    "else:\n",
    "    print(f'pvalue:({pvalue}) is less Then 0.05 Reject Null Hypothesis')\n",
    "\n"
   ]
  },
  {
   "cell_type": "markdown",
   "metadata": {},
   "source": [
    "# Which content rating is most popular in installs\n"
   ]
  },
  {
   "cell_type": "code",
   "execution_count": 79,
   "metadata": {},
   "outputs": [
    {
     "data": {
      "text/plain": [
       "Content Rating\n",
       "Everyone           8372\n",
       "Teen               1146\n",
       "Mature 17+          447\n",
       "Everyone 10+        376\n",
       "Adults only 18+       3\n",
       "Unrated               2\n",
       "Name: count, dtype: int64"
      ]
     },
     "execution_count": 79,
     "metadata": {},
     "output_type": "execute_result"
    }
   ],
   "source": [
    "df['Content Rating'].value_counts() # this will show the value counts of each content rating"
   ]
  },
  {
   "cell_type": "markdown",
   "metadata": {},
   "source": [
    "# plot top 5 rated paid apps\n"
   ]
  },
  {
   "cell_type": "code",
   "execution_count": 80,
   "metadata": {},
   "outputs": [
    {
     "data": {
      "text/plain": [
       "<Axes: xlabel='App', ylabel='Rating'>"
      ]
     },
     "execution_count": 80,
     "metadata": {},
     "output_type": "execute_result"
    },
    {
     "data": {
      "image/png": "[encoded data removed]",
      "text/plain": [
       "<Figure size 1600x600 with 1 Axes>"
      ]
     },
     "metadata": {},
     "output_type": "display_data"
    }
   ],
   "source": [
    "plt.figure(figsize=(16, 6)) # make figure size\n",
    "sns.barplot(x='App', y='Rating', \n",
    "            data=df[df['Type'] == 'Paid'].sort_values(by='Rating', ascending=False).head()) # plot the bar plot"
   ]
  },
  {
   "cell_type": "code",
   "execution_count": 81,
   "metadata": {},
   "outputs": [
    {
     "data": {
      "text/html": [
       "<div>\n",
       "<style scoped>\n",
       "    .dataframe tbody tr th:only-of-type {\n",
       "        vertical-align: middle;\n",
       "    }\n",
       "\n",
       "    .dataframe tbody tr th {\n",
       "        vertical-align: top;\n",
       "    }\n",
       "\n",
       "    .dataframe thead th {\n",
       "        text-align: right;\n",
       "    }\n",
       "</style>\n",
       "<table border=\"1\" class=\"dataframe\">\n",
       "  <thead>\n",
       "    <tr style=\"text-align: right;\">\n",
       "      <th></th>\n",
       "      <th>App</th>\n",
       "      <th>Category</th>\n",
       "      <th>Rating</th>\n",
       "      <th>Reviews</th>\n",
       "      <th>size_in_MBs</th>\n",
       "      <th>Installs</th>\n",
       "      <th>Type</th>\n",
       "      <th>Price</th>\n",
       "      <th>Content Rating</th>\n",
       "      <th>Genres</th>\n",
       "      <th>Last Updated</th>\n",
       "      <th>Current Ver</th>\n",
       "      <th>Android Ver</th>\n",
       "      <th>install_category</th>\n",
       "    </tr>\n",
       "  </thead>\n",
       "  <tbody>\n",
       "    <tr>\n",
       "      <th>10697</th>\n",
       "      <td>Mu.F.O.</td>\n",
       "      <td>GAME</td>\n",
       "      <td>5.0</td>\n",
       "      <td>2</td>\n",
       "      <td>16.00000</td>\n",
       "      <td>1</td>\n",
       "      <td>Paid</td>\n",
       "      <td>0.99</td>\n",
       "      <td>Everyone</td>\n",
       "      <td>Arcade</td>\n",
       "      <td>March 3, 2017</td>\n",
       "      <td>1</td>\n",
       "      <td>2.3 and up</td>\n",
       "      <td>Very Low</td>\n",
       "    </tr>\n",
       "    <tr>\n",
       "      <th>5246</th>\n",
       "      <td>Hey AJ! It's Bedtime!</td>\n",
       "      <td>FAMILY</td>\n",
       "      <td>5.0</td>\n",
       "      <td>1</td>\n",
       "      <td>63.00000</td>\n",
       "      <td>10</td>\n",
       "      <td>Paid</td>\n",
       "      <td>4.99</td>\n",
       "      <td>Everyone</td>\n",
       "      <td>Education</td>\n",
       "      <td>April 4, 2018</td>\n",
       "      <td>1.0.59</td>\n",
       "      <td>2.3 and up</td>\n",
       "      <td>Very Low</td>\n",
       "    </tr>\n",
       "    <tr>\n",
       "      <th>4988</th>\n",
       "      <td>Easy Hotspot Ad Free</td>\n",
       "      <td>TOOLS</td>\n",
       "      <td>5.0</td>\n",
       "      <td>2</td>\n",
       "      <td>3.30000</td>\n",
       "      <td>10</td>\n",
       "      <td>Paid</td>\n",
       "      <td>0.99</td>\n",
       "      <td>Everyone</td>\n",
       "      <td>Tools</td>\n",
       "      <td>July 26, 2018</td>\n",
       "      <td>1.05</td>\n",
       "      <td>4.0 and up</td>\n",
       "      <td>Very Low</td>\n",
       "    </tr>\n",
       "    <tr>\n",
       "      <th>10690</th>\n",
       "      <td>FO Bixby</td>\n",
       "      <td>PERSONALIZATION</td>\n",
       "      <td>5.0</td>\n",
       "      <td>5</td>\n",
       "      <td>0.84082</td>\n",
       "      <td>100</td>\n",
       "      <td>Paid</td>\n",
       "      <td>0.99</td>\n",
       "      <td>Everyone</td>\n",
       "      <td>Personalization</td>\n",
       "      <td>April 25, 2018</td>\n",
       "      <td>0.2</td>\n",
       "      <td>7.0 and up</td>\n",
       "      <td>Low</td>\n",
       "    </tr>\n",
       "    <tr>\n",
       "      <th>5237</th>\n",
       "      <td>Hey AJ! It's Saturday!</td>\n",
       "      <td>BOOKS_AND_REFERENCE</td>\n",
       "      <td>5.0</td>\n",
       "      <td>12</td>\n",
       "      <td>50.00000</td>\n",
       "      <td>100</td>\n",
       "      <td>Paid</td>\n",
       "      <td>3.99</td>\n",
       "      <td>Everyone</td>\n",
       "      <td>Books &amp; Reference</td>\n",
       "      <td>June 13, 2016</td>\n",
       "      <td>1.0.0</td>\n",
       "      <td>2.2 and up</td>\n",
       "      <td>Low</td>\n",
       "    </tr>\n",
       "  </tbody>\n",
       "</table>\n",
       "</div>"
      ],
      "text/plain": [
       "                          App             Category  Rating  Reviews  \\\n",
       "10697                 Mu.F.O.                 GAME     5.0        2   \n",
       "5246    Hey AJ! It's Bedtime!               FAMILY     5.0        1   \n",
       "4988     Easy Hotspot Ad Free                TOOLS     5.0        2   \n",
       "10690                FO Bixby      PERSONALIZATION     5.0        5   \n",
       "5237   Hey AJ! It's Saturday!  BOOKS_AND_REFERENCE     5.0       12   \n",
       "\n",
       "       size_in_MBs  Installs  Type  Price Content Rating             Genres  \\\n",
       "10697     16.00000         1  Paid   0.99       Everyone             Arcade   \n",
       "5246      63.00000        10  Paid   4.99       Everyone          Education   \n",
       "4988       3.30000        10  Paid   0.99       Everyone              Tools   \n",
       "10690      0.84082       100  Paid   0.99       Everyone    Personalization   \n",
       "5237      50.00000       100  Paid   3.99       Everyone  Books & Reference   \n",
       "\n",
       "         Last Updated Current Ver Android Ver install_category  \n",
       "10697   March 3, 2017           1  2.3 and up         Very Low  \n",
       "5246    April 4, 2018      1.0.59  2.3 and up         Very Low  \n",
       "4988    July 26, 2018        1.05  4.0 and up         Very Low  \n",
       "10690  April 25, 2018         0.2  7.0 and up              Low  \n",
       "5237    June 13, 2016       1.0.0  2.2 and up              Low  "
      ]
     },
     "execution_count": 81,
     "metadata": {},
     "output_type": "execute_result"
    }
   ],
   "source": [
    "# This Will Show Top 5 Paid category Apps With Respect To Rating\n",
    "df[df['Type'] == 'Paid'].sort_values(by='Rating', ascending=False).head(5)"
   ]
  },
  {
   "cell_type": "markdown",
   "metadata": {},
   "source": [
    "# plot top rated 5 apps in free category\n"
   ]
  },
  {
   "cell_type": "code",
   "execution_count": 82,
   "metadata": {},
   "outputs": [
    {
     "data": {
      "text/plain": [
       "<Axes: xlabel='App', ylabel='Rating'>"
      ]
     },
     "execution_count": 82,
     "metadata": {},
     "output_type": "execute_result"
    },
    {
     "data": {
      "image/png": "[encoded data removed]",
      "text/plain": [
       "<Figure size 1600x600 with 1 Axes>"
      ]
     },
     "metadata": {},
     "output_type": "display_data"
    }
   ],
   "source": [
    "plt.figure(figsize=(16, 6)) # set figure size\n",
    "sns.barplot(x='App', y='Rating', \n",
    "            data=df[df['Type']=='Free'].sort_values(by='Rating', ascending=False).head())"
   ]
  },
  {
   "cell_type": "code",
   "execution_count": 83,
   "metadata": {},
   "outputs": [
    {
     "data": {
      "text/html": [
       "<div>\n",
       "<style scoped>\n",
       "    .dataframe tbody tr th:only-of-type {\n",
       "        vertical-align: middle;\n",
       "    }\n",
       "\n",
       "    .dataframe tbody tr th {\n",
       "        vertical-align: top;\n",
       "    }\n",
       "\n",
       "    .dataframe thead th {\n",
       "        text-align: right;\n",
       "    }\n",
       "</style>\n",
       "<table border=\"1\" class=\"dataframe\">\n",
       "  <thead>\n",
       "    <tr style=\"text-align: right;\">\n",
       "      <th></th>\n",
       "      <th>App</th>\n",
       "      <th>Category</th>\n",
       "      <th>Rating</th>\n",
       "      <th>Reviews</th>\n",
       "      <th>size_in_MBs</th>\n",
       "      <th>Installs</th>\n",
       "      <th>Type</th>\n",
       "      <th>Price</th>\n",
       "      <th>Content Rating</th>\n",
       "      <th>Genres</th>\n",
       "      <th>Last Updated</th>\n",
       "      <th>Current Ver</th>\n",
       "      <th>Android Ver</th>\n",
       "      <th>install_category</th>\n",
       "    </tr>\n",
       "  </thead>\n",
       "  <tbody>\n",
       "    <tr>\n",
       "      <th>10820</th>\n",
       "      <td>Fr. Daoud Lamei</td>\n",
       "      <td>FAMILY</td>\n",
       "      <td>5.0</td>\n",
       "      <td>22</td>\n",
       "      <td>8.6</td>\n",
       "      <td>1000</td>\n",
       "      <td>Free</td>\n",
       "      <td>0.0</td>\n",
       "      <td>Teen</td>\n",
       "      <td>Education</td>\n",
       "      <td>June 27, 2018</td>\n",
       "      <td>3.8.0</td>\n",
       "      <td>4.1 and up</td>\n",
       "      <td>Low</td>\n",
       "    </tr>\n",
       "    <tr>\n",
       "      <th>10837</th>\n",
       "      <td>Fr. Mike Schmitz Audio Teachings</td>\n",
       "      <td>FAMILY</td>\n",
       "      <td>5.0</td>\n",
       "      <td>4</td>\n",
       "      <td>3.6</td>\n",
       "      <td>100</td>\n",
       "      <td>Free</td>\n",
       "      <td>0.0</td>\n",
       "      <td>Everyone</td>\n",
       "      <td>Education</td>\n",
       "      <td>July 6, 2018</td>\n",
       "      <td>1</td>\n",
       "      <td>4.1 and up</td>\n",
       "      <td>Low</td>\n",
       "    </tr>\n",
       "    <tr>\n",
       "      <th>5148</th>\n",
       "      <td>Kimbrough AH</td>\n",
       "      <td>MEDICAL</td>\n",
       "      <td>5.0</td>\n",
       "      <td>5</td>\n",
       "      <td>28.0</td>\n",
       "      <td>100</td>\n",
       "      <td>Free</td>\n",
       "      <td>0.0</td>\n",
       "      <td>Everyone</td>\n",
       "      <td>Medical</td>\n",
       "      <td>September 21, 2017</td>\n",
       "      <td>300000.0.90</td>\n",
       "      <td>4.0.3 and up</td>\n",
       "      <td>Low</td>\n",
       "    </tr>\n",
       "    <tr>\n",
       "      <th>9806</th>\n",
       "      <td>Dr. ES PV Calculator</td>\n",
       "      <td>TOOLS</td>\n",
       "      <td>5.0</td>\n",
       "      <td>19</td>\n",
       "      <td>11.0</td>\n",
       "      <td>500</td>\n",
       "      <td>Free</td>\n",
       "      <td>0.0</td>\n",
       "      <td>Everyone</td>\n",
       "      <td>Tools</td>\n",
       "      <td>March 11, 2018</td>\n",
       "      <td>3.4.7.2.16</td>\n",
       "      <td>4.1 and up</td>\n",
       "      <td>Low</td>\n",
       "    </tr>\n",
       "    <tr>\n",
       "      <th>5139</th>\n",
       "      <td>Chenoweth AH</td>\n",
       "      <td>MEDICAL</td>\n",
       "      <td>5.0</td>\n",
       "      <td>1</td>\n",
       "      <td>27.0</td>\n",
       "      <td>100</td>\n",
       "      <td>Free</td>\n",
       "      <td>0.0</td>\n",
       "      <td>Everyone</td>\n",
       "      <td>Medical</td>\n",
       "      <td>April 3, 2017</td>\n",
       "      <td>300000.0.78</td>\n",
       "      <td>4.0.3 and up</td>\n",
       "      <td>Low</td>\n",
       "    </tr>\n",
       "  </tbody>\n",
       "</table>\n",
       "</div>"
      ],
      "text/plain": [
       "                                    App Category  Rating  Reviews  \\\n",
       "10820                   Fr. Daoud Lamei   FAMILY     5.0       22   \n",
       "10837  Fr. Mike Schmitz Audio Teachings   FAMILY     5.0        4   \n",
       "5148                       Kimbrough AH  MEDICAL     5.0        5   \n",
       "9806               Dr. ES PV Calculator    TOOLS     5.0       19   \n",
       "5139                       Chenoweth AH  MEDICAL     5.0        1   \n",
       "\n",
       "       size_in_MBs  Installs  Type  Price Content Rating     Genres  \\\n",
       "10820          8.6      1000  Free    0.0           Teen  Education   \n",
       "10837          3.6       100  Free    0.0       Everyone  Education   \n",
       "5148          28.0       100  Free    0.0       Everyone    Medical   \n",
       "9806          11.0       500  Free    0.0       Everyone      Tools   \n",
       "5139          27.0       100  Free    0.0       Everyone    Medical   \n",
       "\n",
       "             Last Updated  Current Ver   Android Ver install_category  \n",
       "10820       June 27, 2018        3.8.0    4.1 and up              Low  \n",
       "10837        July 6, 2018            1    4.1 and up              Low  \n",
       "5148   September 21, 2017  300000.0.90  4.0.3 and up              Low  \n",
       "9806       March 11, 2018   3.4.7.2.16    4.1 and up              Low  \n",
       "5139        April 3, 2017  300000.0.78  4.0.3 and up              Low  "
      ]
     },
     "execution_count": 83,
     "metadata": {},
     "output_type": "execute_result"
    }
   ],
   "source": [
    "# Top 5 Free Category Apps With Respect To Rating\n",
    "df[df['Type'] == 'Free'].sort_values(by='Rating', ascending=False).head(5)"
   ]
  },
  {
   "cell_type": "markdown",
   "metadata": {},
   "source": [
    "# Plot top 5 FREE apps with highest number of reviews\n"
   ]
  },
  {
   "cell_type": "code",
   "execution_count": 84,
   "metadata": {},
   "outputs": [
    {
     "data": {
      "text/plain": [
       "<Axes: xlabel='App', ylabel='Reviews'>"
      ]
     },
     "execution_count": 84,
     "metadata": {},
     "output_type": "execute_result"
    },
    {
     "data": {
      "image/png": "[encoded data removed]",
      "text/plain": [
       "<Figure size 1200x600 with 1 Axes>"
      ]
     },
     "metadata": {},
     "output_type": "display_data"
    }
   ],
   "source": [
    "plt.figure(figsize=(12  , 6)) # make figure size\n",
    "sns.barplot(x='App', y='Reviews', width=0.5,\n",
    "            data=df[df['Type'] == 'Free'].sort_values(by='Reviews', ascending=False).head(5)) "
   ]
  },
  {
   "cell_type": "code",
   "execution_count": 85,
   "metadata": {},
   "outputs": [
    {
     "data": {
      "text/html": [
       "<div>\n",
       "<style scoped>\n",
       "    .dataframe tbody tr th:only-of-type {\n",
       "        vertical-align: middle;\n",
       "    }\n",
       "\n",
       "    .dataframe tbody tr th {\n",
       "        vertical-align: top;\n",
       "    }\n",
       "\n",
       "    .dataframe thead th {\n",
       "        text-align: right;\n",
       "    }\n",
       "</style>\n",
       "<table border=\"1\" class=\"dataframe\">\n",
       "  <thead>\n",
       "    <tr style=\"text-align: right;\">\n",
       "      <th></th>\n",
       "      <th>App</th>\n",
       "      <th>Category</th>\n",
       "      <th>Rating</th>\n",
       "      <th>Reviews</th>\n",
       "      <th>size_in_MBs</th>\n",
       "      <th>Installs</th>\n",
       "      <th>Type</th>\n",
       "      <th>Price</th>\n",
       "      <th>Content Rating</th>\n",
       "      <th>Genres</th>\n",
       "      <th>Last Updated</th>\n",
       "      <th>Current Ver</th>\n",
       "      <th>Android Ver</th>\n",
       "      <th>install_category</th>\n",
       "    </tr>\n",
       "  </thead>\n",
       "  <tbody>\n",
       "    <tr>\n",
       "      <th>2544</th>\n",
       "      <td>Facebook</td>\n",
       "      <td>SOCIAL</td>\n",
       "      <td>4.1</td>\n",
       "      <td>78158306</td>\n",
       "      <td>17.681671</td>\n",
       "      <td>1000000000</td>\n",
       "      <td>Free</td>\n",
       "      <td>0.0</td>\n",
       "      <td>Teen</td>\n",
       "      <td>Social</td>\n",
       "      <td>August 3, 2018</td>\n",
       "      <td>Varies with device</td>\n",
       "      <td>Varies with device</td>\n",
       "      <td>Top Notch</td>\n",
       "    </tr>\n",
       "    <tr>\n",
       "      <th>3943</th>\n",
       "      <td>Facebook</td>\n",
       "      <td>SOCIAL</td>\n",
       "      <td>4.1</td>\n",
       "      <td>78128208</td>\n",
       "      <td>17.681671</td>\n",
       "      <td>1000000000</td>\n",
       "      <td>Free</td>\n",
       "      <td>0.0</td>\n",
       "      <td>Teen</td>\n",
       "      <td>Social</td>\n",
       "      <td>August 3, 2018</td>\n",
       "      <td>Varies with device</td>\n",
       "      <td>Varies with device</td>\n",
       "      <td>Top Notch</td>\n",
       "    </tr>\n",
       "    <tr>\n",
       "      <th>336</th>\n",
       "      <td>WhatsApp Messenger</td>\n",
       "      <td>COMMUNICATION</td>\n",
       "      <td>4.4</td>\n",
       "      <td>69119316</td>\n",
       "      <td>11.765673</td>\n",
       "      <td>1000000000</td>\n",
       "      <td>Free</td>\n",
       "      <td>0.0</td>\n",
       "      <td>Everyone</td>\n",
       "      <td>Communication</td>\n",
       "      <td>August 3, 2018</td>\n",
       "      <td>Varies with device</td>\n",
       "      <td>Varies with device</td>\n",
       "      <td>Top Notch</td>\n",
       "    </tr>\n",
       "    <tr>\n",
       "      <th>3904</th>\n",
       "      <td>WhatsApp Messenger</td>\n",
       "      <td>COMMUNICATION</td>\n",
       "      <td>4.4</td>\n",
       "      <td>69109672</td>\n",
       "      <td>11.765673</td>\n",
       "      <td>1000000000</td>\n",
       "      <td>Free</td>\n",
       "      <td>0.0</td>\n",
       "      <td>Everyone</td>\n",
       "      <td>Communication</td>\n",
       "      <td>August 3, 2018</td>\n",
       "      <td>Varies with device</td>\n",
       "      <td>Varies with device</td>\n",
       "      <td>Top Notch</td>\n",
       "    </tr>\n",
       "    <tr>\n",
       "      <th>2604</th>\n",
       "      <td>Instagram</td>\n",
       "      <td>SOCIAL</td>\n",
       "      <td>4.5</td>\n",
       "      <td>66577446</td>\n",
       "      <td>17.681671</td>\n",
       "      <td>1000000000</td>\n",
       "      <td>Free</td>\n",
       "      <td>0.0</td>\n",
       "      <td>Teen</td>\n",
       "      <td>Social</td>\n",
       "      <td>July 31, 2018</td>\n",
       "      <td>Varies with device</td>\n",
       "      <td>Varies with device</td>\n",
       "      <td>Top Notch</td>\n",
       "    </tr>\n",
       "  </tbody>\n",
       "</table>\n",
       "</div>"
      ],
      "text/plain": [
       "                     App       Category  Rating   Reviews  size_in_MBs  \\\n",
       "2544            Facebook         SOCIAL     4.1  78158306    17.681671   \n",
       "3943            Facebook         SOCIAL     4.1  78128208    17.681671   \n",
       "336   WhatsApp Messenger  COMMUNICATION     4.4  69119316    11.765673   \n",
       "3904  WhatsApp Messenger  COMMUNICATION     4.4  69109672    11.765673   \n",
       "2604           Instagram         SOCIAL     4.5  66577446    17.681671   \n",
       "\n",
       "        Installs  Type  Price Content Rating         Genres    Last Updated  \\\n",
       "2544  1000000000  Free    0.0           Teen         Social  August 3, 2018   \n",
       "3943  1000000000  Free    0.0           Teen         Social  August 3, 2018   \n",
       "336   1000000000  Free    0.0       Everyone  Communication  August 3, 2018   \n",
       "3904  1000000000  Free    0.0       Everyone  Communication  August 3, 2018   \n",
       "2604  1000000000  Free    0.0           Teen         Social   July 31, 2018   \n",
       "\n",
       "             Current Ver         Android Ver install_category  \n",
       "2544  Varies with device  Varies with device        Top Notch  \n",
       "3943  Varies with device  Varies with device        Top Notch  \n",
       "336   Varies with device  Varies with device        Top Notch  \n",
       "3904  Varies with device  Varies with device        Top Notch  \n",
       "2604  Varies with device  Varies with device        Top Notch  "
      ]
     },
     "execution_count": 85,
     "metadata": {},
     "output_type": "execute_result"
    }
   ],
   "source": [
    "# Top 5 Free category Apps With Respect To Reviews \n",
    "df[df['Type'] == 'Free'].sort_values(by='Reviews', ascending=False).head(5)"
   ]
  },
  {
   "cell_type": "markdown",
   "metadata": {},
   "source": [
    "# Plot top 5 Paid apps with highest number of reviews\n"
   ]
  },
  {
   "cell_type": "code",
   "execution_count": 86,
   "metadata": {},
   "outputs": [
    {
     "data": {
      "text/plain": [
       "<Axes: xlabel='App', ylabel='Reviews'>"
      ]
     },
     "execution_count": 86,
     "metadata": {},
     "output_type": "execute_result"
    },
    {
     "data": {
      "image/png": "[encoded data removed]",
      "text/plain": [
       "<Figure size 1600x600 with 1 Axes>"
      ]
     },
     "metadata": {},
     "output_type": "display_data"
    }
   ],
   "source": [
    "plt.figure(figsize=(16, 6)) # make figure size\n",
    "sns.barplot(x='App', y='Reviews', \n",
    "            data=df[df['Type'] == 'Paid'].sort_values(by='Reviews', ascending=False).head(5)) "
   ]
  },
  {
   "cell_type": "code",
   "execution_count": 87,
   "metadata": {},
   "outputs": [
    {
     "data": {
      "text/html": [
       "<div>\n",
       "<style scoped>\n",
       "    .dataframe tbody tr th:only-of-type {\n",
       "        vertical-align: middle;\n",
       "    }\n",
       "\n",
       "    .dataframe tbody tr th {\n",
       "        vertical-align: top;\n",
       "    }\n",
       "\n",
       "    .dataframe thead th {\n",
       "        text-align: right;\n",
       "    }\n",
       "</style>\n",
       "<table border=\"1\" class=\"dataframe\">\n",
       "  <thead>\n",
       "    <tr style=\"text-align: right;\">\n",
       "      <th></th>\n",
       "      <th>App</th>\n",
       "      <th>Category</th>\n",
       "      <th>Rating</th>\n",
       "      <th>Reviews</th>\n",
       "      <th>size_in_MBs</th>\n",
       "      <th>Installs</th>\n",
       "      <th>Type</th>\n",
       "      <th>Price</th>\n",
       "      <th>Content Rating</th>\n",
       "      <th>Genres</th>\n",
       "      <th>Last Updated</th>\n",
       "      <th>Current Ver</th>\n",
       "      <th>Android Ver</th>\n",
       "      <th>install_category</th>\n",
       "    </tr>\n",
       "  </thead>\n",
       "  <tbody>\n",
       "    <tr>\n",
       "      <th>2241</th>\n",
       "      <td>Minecraft</td>\n",
       "      <td>FAMILY</td>\n",
       "      <td>4.5</td>\n",
       "      <td>2376564</td>\n",
       "      <td>28.353764</td>\n",
       "      <td>10000000</td>\n",
       "      <td>Paid</td>\n",
       "      <td>6.99</td>\n",
       "      <td>Everyone 10+</td>\n",
       "      <td>Arcade</td>\n",
       "      <td>Action &amp; Adventure</td>\n",
       "      <td>July 24, 2018</td>\n",
       "      <td>1.5.2.1</td>\n",
       "      <td>Very High</td>\n",
       "    </tr>\n",
       "    <tr>\n",
       "      <th>4347</th>\n",
       "      <td>Minecraft</td>\n",
       "      <td>FAMILY</td>\n",
       "      <td>4.5</td>\n",
       "      <td>2375336</td>\n",
       "      <td>28.353764</td>\n",
       "      <td>10000000</td>\n",
       "      <td>Paid</td>\n",
       "      <td>6.99</td>\n",
       "      <td>Everyone 10+</td>\n",
       "      <td>Arcade</td>\n",
       "      <td>Action &amp; Adventure</td>\n",
       "      <td>July 24, 2018</td>\n",
       "      <td>1.5.2.1</td>\n",
       "      <td>Very High</td>\n",
       "    </tr>\n",
       "    <tr>\n",
       "      <th>4034</th>\n",
       "      <td>Hitman Sniper</td>\n",
       "      <td>GAME</td>\n",
       "      <td>4.6</td>\n",
       "      <td>408292</td>\n",
       "      <td>29.000000</td>\n",
       "      <td>10000000</td>\n",
       "      <td>Paid</td>\n",
       "      <td>0.99</td>\n",
       "      <td>Mature 17+</td>\n",
       "      <td>Action</td>\n",
       "      <td>July 12, 2018</td>\n",
       "      <td>1.7.110758</td>\n",
       "      <td>4.1 and up</td>\n",
       "      <td>Very High</td>\n",
       "    </tr>\n",
       "    <tr>\n",
       "      <th>7417</th>\n",
       "      <td>Grand Theft Auto: San Andreas</td>\n",
       "      <td>GAME</td>\n",
       "      <td>4.4</td>\n",
       "      <td>348962</td>\n",
       "      <td>26.000000</td>\n",
       "      <td>1000000</td>\n",
       "      <td>Paid</td>\n",
       "      <td>6.99</td>\n",
       "      <td>Mature 17+</td>\n",
       "      <td>Action</td>\n",
       "      <td>March 21, 2015</td>\n",
       "      <td>1.08</td>\n",
       "      <td>3.0 and up</td>\n",
       "      <td>High</td>\n",
       "    </tr>\n",
       "    <tr>\n",
       "      <th>8860</th>\n",
       "      <td>Bloons TD 5</td>\n",
       "      <td>FAMILY</td>\n",
       "      <td>4.6</td>\n",
       "      <td>190086</td>\n",
       "      <td>94.000000</td>\n",
       "      <td>1000000</td>\n",
       "      <td>Paid</td>\n",
       "      <td>2.99</td>\n",
       "      <td>Everyone</td>\n",
       "      <td>Strategy</td>\n",
       "      <td>July 13, 2018</td>\n",
       "      <td>3.16</td>\n",
       "      <td>2.3.3 and up</td>\n",
       "      <td>High</td>\n",
       "    </tr>\n",
       "  </tbody>\n",
       "</table>\n",
       "</div>"
      ],
      "text/plain": [
       "                                App Category  Rating  Reviews  size_in_MBs  \\\n",
       "2241                      Minecraft   FAMILY     4.5  2376564    28.353764   \n",
       "4347                      Minecraft   FAMILY     4.5  2375336    28.353764   \n",
       "4034                  Hitman Sniper     GAME     4.6   408292    29.000000   \n",
       "7417  Grand Theft Auto: San Andreas     GAME     4.4   348962    26.000000   \n",
       "8860                    Bloons TD 5   FAMILY     4.6   190086    94.000000   \n",
       "\n",
       "      Installs  Type  Price Content Rating    Genres        Last Updated  \\\n",
       "2241  10000000  Paid   6.99   Everyone 10+    Arcade  Action & Adventure   \n",
       "4347  10000000  Paid   6.99   Everyone 10+    Arcade  Action & Adventure   \n",
       "4034  10000000  Paid   0.99     Mature 17+    Action       July 12, 2018   \n",
       "7417   1000000  Paid   6.99     Mature 17+    Action      March 21, 2015   \n",
       "8860   1000000  Paid   2.99       Everyone  Strategy       July 13, 2018   \n",
       "\n",
       "        Current Ver   Android Ver install_category  \n",
       "2241  July 24, 2018       1.5.2.1        Very High  \n",
       "4347  July 24, 2018       1.5.2.1        Very High  \n",
       "4034     1.7.110758    4.1 and up        Very High  \n",
       "7417           1.08    3.0 and up             High  \n",
       "8860           3.16  2.3.3 and up             High  "
      ]
     },
     "execution_count": 87,
     "metadata": {},
     "output_type": "execute_result"
    }
   ],
   "source": [
    "# Top 5 Paid Apps With Respect To Reviews \n",
    "df[df['Type'] == 'Paid'].sort_values(by='Reviews', ascending=False).head(5)"
   ]
  },
  {
   "cell_type": "markdown",
   "metadata": {},
   "source": [
    "# Plot Top 5 Expensive Apps "
   ]
  },
  {
   "cell_type": "code",
   "execution_count": 88,
   "metadata": {},
   "outputs": [
    {
     "data": {
      "text/plain": [
       "<Axes: xlabel='App', ylabel='Installs'>"
      ]
     },
     "execution_count": 88,
     "metadata": {},
     "output_type": "execute_result"
    },
    {
     "data": {
      "image/png": "[encoded data removed]",
      "text/plain": [
       "<Figure size 1600x800 with 1 Axes>"
      ]
     },
     "metadata": {},
     "output_type": "display_data"
    }
   ],
   "source": [
    "plt.figure(figsize=(16, 8)) # Set Figsize\n",
    "sns.barplot(x='App', y='Installs', data=df.nlargest(5, 'Price'))"
   ]
  },
  {
   "cell_type": "code",
   "execution_count": 89,
   "metadata": {},
   "outputs": [
    {
     "data": {
      "text/html": [
       "<div>\n",
       "<style scoped>\n",
       "    .dataframe tbody tr th:only-of-type {\n",
       "        vertical-align: middle;\n",
       "    }\n",
       "\n",
       "    .dataframe tbody tr th {\n",
       "        vertical-align: top;\n",
       "    }\n",
       "\n",
       "    .dataframe thead th {\n",
       "        text-align: right;\n",
       "    }\n",
       "</style>\n",
       "<table border=\"1\" class=\"dataframe\">\n",
       "  <thead>\n",
       "    <tr style=\"text-align: right;\">\n",
       "      <th></th>\n",
       "      <th>App</th>\n",
       "      <th>Category</th>\n",
       "      <th>Rating</th>\n",
       "      <th>Reviews</th>\n",
       "      <th>size_in_MBs</th>\n",
       "      <th>Installs</th>\n",
       "      <th>Type</th>\n",
       "      <th>Price</th>\n",
       "      <th>Content Rating</th>\n",
       "      <th>Genres</th>\n",
       "      <th>Last Updated</th>\n",
       "      <th>Current Ver</th>\n",
       "      <th>Android Ver</th>\n",
       "      <th>install_category</th>\n",
       "    </tr>\n",
       "  </thead>\n",
       "  <tbody>\n",
       "    <tr>\n",
       "      <th>4367</th>\n",
       "      <td>I'm Rich - Trump Edition</td>\n",
       "      <td>LIFESTYLE</td>\n",
       "      <td>3.6</td>\n",
       "      <td>275</td>\n",
       "      <td>7.3</td>\n",
       "      <td>10000</td>\n",
       "      <td>Paid</td>\n",
       "      <td>400.00</td>\n",
       "      <td>Everyone</td>\n",
       "      <td>Lifestyle</td>\n",
       "      <td>May 3, 2018</td>\n",
       "      <td>1.0.1</td>\n",
       "      <td>4.1 and up</td>\n",
       "      <td>Moderate</td>\n",
       "    </tr>\n",
       "    <tr>\n",
       "      <th>4197</th>\n",
       "      <td>most expensive app (H)</td>\n",
       "      <td>FAMILY</td>\n",
       "      <td>4.3</td>\n",
       "      <td>6</td>\n",
       "      <td>1.5</td>\n",
       "      <td>100</td>\n",
       "      <td>Paid</td>\n",
       "      <td>399.99</td>\n",
       "      <td>Everyone</td>\n",
       "      <td>Entertainment</td>\n",
       "      <td>July 16, 2018</td>\n",
       "      <td>1</td>\n",
       "      <td>7.0 and up</td>\n",
       "      <td>Low</td>\n",
       "    </tr>\n",
       "    <tr>\n",
       "      <th>4362</th>\n",
       "      <td>💎 I'm rich</td>\n",
       "      <td>LIFESTYLE</td>\n",
       "      <td>3.8</td>\n",
       "      <td>718</td>\n",
       "      <td>26.0</td>\n",
       "      <td>10000</td>\n",
       "      <td>Paid</td>\n",
       "      <td>399.99</td>\n",
       "      <td>Everyone</td>\n",
       "      <td>Lifestyle</td>\n",
       "      <td>March 11, 2018</td>\n",
       "      <td>1.0.0</td>\n",
       "      <td>4.4 and up</td>\n",
       "      <td>Moderate</td>\n",
       "    </tr>\n",
       "    <tr>\n",
       "      <th>5351</th>\n",
       "      <td>I am rich</td>\n",
       "      <td>LIFESTYLE</td>\n",
       "      <td>3.8</td>\n",
       "      <td>3547</td>\n",
       "      <td>1.8</td>\n",
       "      <td>100000</td>\n",
       "      <td>Paid</td>\n",
       "      <td>399.99</td>\n",
       "      <td>Everyone</td>\n",
       "      <td>Lifestyle</td>\n",
       "      <td>January 12, 2018</td>\n",
       "      <td>2</td>\n",
       "      <td>4.0.3 and up</td>\n",
       "      <td>More Than Moderate</td>\n",
       "    </tr>\n",
       "    <tr>\n",
       "      <th>5354</th>\n",
       "      <td>I am Rich Plus</td>\n",
       "      <td>FAMILY</td>\n",
       "      <td>4.0</td>\n",
       "      <td>856</td>\n",
       "      <td>8.7</td>\n",
       "      <td>10000</td>\n",
       "      <td>Paid</td>\n",
       "      <td>399.99</td>\n",
       "      <td>Everyone</td>\n",
       "      <td>Entertainment</td>\n",
       "      <td>May 19, 2018</td>\n",
       "      <td>3</td>\n",
       "      <td>4.4 and up</td>\n",
       "      <td>Moderate</td>\n",
       "    </tr>\n",
       "  </tbody>\n",
       "</table>\n",
       "</div>"
      ],
      "text/plain": [
       "                           App   Category  Rating  Reviews  size_in_MBs  \\\n",
       "4367  I'm Rich - Trump Edition  LIFESTYLE     3.6      275          7.3   \n",
       "4197    most expensive app (H)     FAMILY     4.3        6          1.5   \n",
       "4362                💎 I'm rich  LIFESTYLE     3.8      718         26.0   \n",
       "5351                 I am rich  LIFESTYLE     3.8     3547          1.8   \n",
       "5354            I am Rich Plus     FAMILY     4.0      856          8.7   \n",
       "\n",
       "      Installs  Type   Price Content Rating         Genres      Last Updated  \\\n",
       "4367     10000  Paid  400.00       Everyone      Lifestyle       May 3, 2018   \n",
       "4197       100  Paid  399.99       Everyone  Entertainment     July 16, 2018   \n",
       "4362     10000  Paid  399.99       Everyone      Lifestyle    March 11, 2018   \n",
       "5351    100000  Paid  399.99       Everyone      Lifestyle  January 12, 2018   \n",
       "5354     10000  Paid  399.99       Everyone  Entertainment      May 19, 2018   \n",
       "\n",
       "     Current Ver   Android Ver    install_category  \n",
       "4367       1.0.1    4.1 and up            Moderate  \n",
       "4197           1    7.0 and up                 Low  \n",
       "4362       1.0.0    4.4 and up            Moderate  \n",
       "5351           2  4.0.3 and up  More Than Moderate  \n",
       "5354           3    4.4 and up            Moderate  "
      ]
     },
     "execution_count": 89,
     "metadata": {},
     "output_type": "execute_result"
    }
   ],
   "source": [
    "# Top 5 Expensive Apps\n",
    "\n",
    "# Sorting the DataFrame by 'Price' in descending order and selecting the top 5\n",
    "df.nlargest(5, 'Price')"
   ]
  },
  {
   "cell_type": "markdown",
   "metadata": {},
   "source": [
    "# Good Luck"
   ]
  }
 ],
 "metadata": {
  "kernelspec": {
   "display_name": "Python_EDA",
   "language": "python",
   "name": "python3"
  },
  "language_info": {
   "codemirror_mode": {
    "name": "ipython",
    "version": 3
   },
   "file_extension": ".py",
   "mimetype": "text/x-python",
   "name": "python",
   "nbconvert_exporter": "python",
   "pygments_lexer": "ipython3",
   "version": "3.12.1"
  }
 },
 "nbformat": 4,
 "nbformat_minor": 2
}
